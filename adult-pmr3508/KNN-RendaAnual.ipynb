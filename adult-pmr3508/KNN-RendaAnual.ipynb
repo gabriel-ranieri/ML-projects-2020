{
 "cells": [
  {
   "cell_type": "markdown",
   "metadata": {
    "papermill": {
     "duration": 0.048436,
     "end_time": "2020-09-16T04:06:35.478612",
     "exception": false,
     "start_time": "2020-09-16T04:06:35.430176",
     "status": "completed"
    },
    "tags": []
   },
   "source": [
    "# PMR3508(2020) - Aprendizado de Máquina e Reconhecimento de Padrões\n",
    "\n",
    "Análise e aplicação de um classificador K-NN na base adult;\n",
    "\n",
    "Autor: Gabriel Ranieri Vaz de Lima\n",
    "\n",
    "# 1. Preparação dos Dados (*Data Prep*)\n",
    "\n",
    "* **Importação de Bibliotecas**"
   ]
  },
  {
   "cell_type": "code",
   "execution_count": 1,
   "metadata": {
    "_cell_guid": "79c7e3d0-c299-4dcb-8224-4455121ee9b0",
    "_uuid": "d629ff2d2480ee46fbb7e2d37f6b5fab8052498a",
    "execution": {
     "iopub.execute_input": "2020-09-16T04:06:35.576638Z",
     "iopub.status.busy": "2020-09-16T04:06:35.575765Z",
     "iopub.status.idle": "2020-09-16T04:06:36.959036Z",
     "shell.execute_reply": "2020-09-16T04:06:36.958044Z"
    },
    "papermill": {
     "duration": 1.435672,
     "end_time": "2020-09-16T04:06:36.959194",
     "exception": false,
     "start_time": "2020-09-16T04:06:35.523522",
     "status": "completed"
    },
    "tags": []
   },
   "outputs": [],
   "source": [
    "import pandas as pd\n",
    "import numpy as np\n",
    "import seaborn as sns\n",
    "from sklearn import preprocessing\n",
    "import matplotlib.pyplot as plt\n",
    "from sklearn.neighbors import KNeighborsClassifier\n",
    "from sklearn.model_selection import cross_val_score\n",
    "from sklearn.metrics import accuracy_score\n"
   ]
  },
  {
   "cell_type": "markdown",
   "metadata": {
    "papermill": {
     "duration": 0.044962,
     "end_time": "2020-09-16T04:06:37.049788",
     "exception": false,
     "start_time": "2020-09-16T04:06:37.004826",
     "status": "completed"
    },
    "tags": []
   },
   "source": [
    "* **Importação de Dados**"
   ]
  },
  {
   "cell_type": "code",
   "execution_count": 2,
   "metadata": {
    "execution": {
     "iopub.execute_input": "2020-09-16T04:06:37.157977Z",
     "iopub.status.busy": "2020-09-16T04:06:37.156949Z",
     "iopub.status.idle": "2020-09-16T04:06:38.817369Z",
     "shell.execute_reply": "2020-09-16T04:06:38.816645Z"
    },
    "papermill": {
     "duration": 1.72173,
     "end_time": "2020-09-16T04:06:38.817561",
     "exception": false,
     "start_time": "2020-09-16T04:06:37.095831",
     "status": "completed"
    },
    "tags": []
   },
   "outputs": [],
   "source": [
    "adult_train = pd.read_csv(\"../input/adult-pmr3508/train_data.csv\",\n",
    "        names=[\n",
    "        \"Id\",\"Age\", \"Workclass\", \"fnlwgt\", \"Education\", \"education-num\", \"Martial Status\",\n",
    "        \"Occupation\", \"relationship\", \"Race\", \"Sex\", \"Capital Gain\", \"Capital Loss\",\n",
    "        \"Hours per week\", \"Country\", \"Target\"],\n",
    "        sep=r'\\s*,\\s*',\n",
    "        skiprows=1,\n",
    "        engine='python',\n",
    "        na_values=\"?\")\n",
    "\n",
    "adult_test =  pd.read_csv(\"../input/adult-pmr3508/test_data.csv\",\n",
    "        names=[\n",
    "        \"Id\",\"Age\", \"Workclass\", \"fnlwgt\", \"Education\", \"education-num\", \"Martial Status\",\n",
    "        \"Occupation\", \"relationship\", \"Race\", \"Sex\", \"Capital Gain\", \"Capital Loss\",\n",
    "        \"Hours per week\", \"Country\"],\n",
    "        sep=r'\\s*,\\s*',\n",
    "        skiprows=1,\n",
    "        engine='python',\n",
    "        na_values=\"?\")\n"
   ]
  },
  {
   "cell_type": "code",
   "execution_count": 3,
   "metadata": {
    "execution": {
     "iopub.execute_input": "2020-09-16T04:06:38.929287Z",
     "iopub.status.busy": "2020-09-16T04:06:38.928498Z",
     "iopub.status.idle": "2020-09-16T04:06:38.949213Z",
     "shell.execute_reply": "2020-09-16T04:06:38.948535Z"
    },
    "papermill": {
     "duration": 0.084956,
     "end_time": "2020-09-16T04:06:38.949371",
     "exception": false,
     "start_time": "2020-09-16T04:06:38.864415",
     "status": "completed"
    },
    "tags": []
   },
   "outputs": [
    {
     "data": {
      "text/html": [
       "<div>\n",
       "<style scoped>\n",
       "    .dataframe tbody tr th:only-of-type {\n",
       "        vertical-align: middle;\n",
       "    }\n",
       "\n",
       "    .dataframe tbody tr th {\n",
       "        vertical-align: top;\n",
       "    }\n",
       "\n",
       "    .dataframe thead th {\n",
       "        text-align: right;\n",
       "    }\n",
       "</style>\n",
       "<table border=\"1\" class=\"dataframe\">\n",
       "  <thead>\n",
       "    <tr style=\"text-align: right;\">\n",
       "      <th></th>\n",
       "      <th>Id</th>\n",
       "      <th>Age</th>\n",
       "      <th>Workclass</th>\n",
       "      <th>fnlwgt</th>\n",
       "      <th>Education</th>\n",
       "      <th>education-num</th>\n",
       "      <th>Martial Status</th>\n",
       "      <th>Occupation</th>\n",
       "      <th>relationship</th>\n",
       "      <th>Race</th>\n",
       "      <th>Sex</th>\n",
       "      <th>Capital Gain</th>\n",
       "      <th>Capital Loss</th>\n",
       "      <th>Hours per week</th>\n",
       "      <th>Country</th>\n",
       "      <th>Target</th>\n",
       "    </tr>\n",
       "  </thead>\n",
       "  <tbody>\n",
       "    <tr>\n",
       "      <th>0</th>\n",
       "      <td>16280</td>\n",
       "      <td>34</td>\n",
       "      <td>Private</td>\n",
       "      <td>204991</td>\n",
       "      <td>Some-college</td>\n",
       "      <td>10</td>\n",
       "      <td>Divorced</td>\n",
       "      <td>Exec-managerial</td>\n",
       "      <td>Own-child</td>\n",
       "      <td>White</td>\n",
       "      <td>Male</td>\n",
       "      <td>0</td>\n",
       "      <td>0</td>\n",
       "      <td>44</td>\n",
       "      <td>United-States</td>\n",
       "      <td>&lt;=50K</td>\n",
       "    </tr>\n",
       "    <tr>\n",
       "      <th>1</th>\n",
       "      <td>16281</td>\n",
       "      <td>58</td>\n",
       "      <td>Local-gov</td>\n",
       "      <td>310085</td>\n",
       "      <td>10th</td>\n",
       "      <td>6</td>\n",
       "      <td>Married-civ-spouse</td>\n",
       "      <td>Transport-moving</td>\n",
       "      <td>Husband</td>\n",
       "      <td>White</td>\n",
       "      <td>Male</td>\n",
       "      <td>0</td>\n",
       "      <td>0</td>\n",
       "      <td>40</td>\n",
       "      <td>United-States</td>\n",
       "      <td>&lt;=50K</td>\n",
       "    </tr>\n",
       "    <tr>\n",
       "      <th>2</th>\n",
       "      <td>16282</td>\n",
       "      <td>25</td>\n",
       "      <td>Private</td>\n",
       "      <td>146117</td>\n",
       "      <td>Some-college</td>\n",
       "      <td>10</td>\n",
       "      <td>Never-married</td>\n",
       "      <td>Machine-op-inspct</td>\n",
       "      <td>Not-in-family</td>\n",
       "      <td>White</td>\n",
       "      <td>Male</td>\n",
       "      <td>0</td>\n",
       "      <td>0</td>\n",
       "      <td>42</td>\n",
       "      <td>United-States</td>\n",
       "      <td>&lt;=50K</td>\n",
       "    </tr>\n",
       "    <tr>\n",
       "      <th>3</th>\n",
       "      <td>16283</td>\n",
       "      <td>24</td>\n",
       "      <td>Private</td>\n",
       "      <td>138938</td>\n",
       "      <td>Some-college</td>\n",
       "      <td>10</td>\n",
       "      <td>Divorced</td>\n",
       "      <td>Adm-clerical</td>\n",
       "      <td>Not-in-family</td>\n",
       "      <td>White</td>\n",
       "      <td>Female</td>\n",
       "      <td>0</td>\n",
       "      <td>0</td>\n",
       "      <td>40</td>\n",
       "      <td>United-States</td>\n",
       "      <td>&lt;=50K</td>\n",
       "    </tr>\n",
       "    <tr>\n",
       "      <th>4</th>\n",
       "      <td>16284</td>\n",
       "      <td>57</td>\n",
       "      <td>Self-emp-inc</td>\n",
       "      <td>258883</td>\n",
       "      <td>HS-grad</td>\n",
       "      <td>9</td>\n",
       "      <td>Married-civ-spouse</td>\n",
       "      <td>Transport-moving</td>\n",
       "      <td>Husband</td>\n",
       "      <td>White</td>\n",
       "      <td>Male</td>\n",
       "      <td>5178</td>\n",
       "      <td>0</td>\n",
       "      <td>60</td>\n",
       "      <td>Hungary</td>\n",
       "      <td>&gt;50K</td>\n",
       "    </tr>\n",
       "  </tbody>\n",
       "</table>\n",
       "</div>"
      ],
      "text/plain": [
       "      Id  Age     Workclass  fnlwgt     Education  education-num  \\\n",
       "0  16280   34       Private  204991  Some-college             10   \n",
       "1  16281   58     Local-gov  310085          10th              6   \n",
       "2  16282   25       Private  146117  Some-college             10   \n",
       "3  16283   24       Private  138938  Some-college             10   \n",
       "4  16284   57  Self-emp-inc  258883       HS-grad              9   \n",
       "\n",
       "       Martial Status         Occupation   relationship   Race     Sex  \\\n",
       "0            Divorced    Exec-managerial      Own-child  White    Male   \n",
       "1  Married-civ-spouse   Transport-moving        Husband  White    Male   \n",
       "2       Never-married  Machine-op-inspct  Not-in-family  White    Male   \n",
       "3            Divorced       Adm-clerical  Not-in-family  White  Female   \n",
       "4  Married-civ-spouse   Transport-moving        Husband  White    Male   \n",
       "\n",
       "   Capital Gain  Capital Loss  Hours per week        Country Target  \n",
       "0             0             0              44  United-States  <=50K  \n",
       "1             0             0              40  United-States  <=50K  \n",
       "2             0             0              42  United-States  <=50K  \n",
       "3             0             0              40  United-States  <=50K  \n",
       "4          5178             0              60        Hungary   >50K  "
      ]
     },
     "execution_count": 3,
     "metadata": {},
     "output_type": "execute_result"
    }
   ],
   "source": [
    "adult_train.head()"
   ]
  },
  {
   "cell_type": "markdown",
   "metadata": {
    "papermill": {
     "duration": 0.04699,
     "end_time": "2020-09-16T04:06:39.046152",
     "exception": false,
     "start_time": "2020-09-16T04:06:38.999162",
     "status": "completed"
    },
    "tags": []
   },
   "source": [
    "* **Identificação de dados faltantes (Missing Data)**\n",
    "\n",
    "A seguir, analisam-se os dados faltantes para se decidir como proceder em relação aos mesmos."
   ]
  },
  {
   "cell_type": "code",
   "execution_count": 4,
   "metadata": {
    "execution": {
     "iopub.execute_input": "2020-09-16T04:06:39.145669Z",
     "iopub.status.busy": "2020-09-16T04:06:39.144835Z",
     "iopub.status.idle": "2020-09-16T04:06:39.149136Z",
     "shell.execute_reply": "2020-09-16T04:06:39.148347Z"
    },
    "papermill": {
     "duration": 0.056231,
     "end_time": "2020-09-16T04:06:39.149273",
     "exception": false,
     "start_time": "2020-09-16T04:06:39.093042",
     "status": "completed"
    },
    "tags": []
   },
   "outputs": [
    {
     "name": "stdout",
     "output_type": "stream",
     "text": [
      "Formato do DataFrame:  (32560, 16)\n"
     ]
    }
   ],
   "source": [
    "print('Formato do DataFrame: ', adult_train.shape)"
   ]
  },
  {
   "cell_type": "markdown",
   "metadata": {
    "papermill": {
     "duration": 0.047425,
     "end_time": "2020-09-16T04:06:39.243535",
     "exception": false,
     "start_time": "2020-09-16T04:06:39.196110",
     "status": "completed"
    },
    "tags": []
   },
   "source": [
    "Acima, a descrição da estrutura do Dataframe."
   ]
  },
  {
   "cell_type": "code",
   "execution_count": 5,
   "metadata": {
    "execution": {
     "iopub.execute_input": "2020-09-16T04:06:39.375912Z",
     "iopub.status.busy": "2020-09-16T04:06:39.344212Z",
     "iopub.status.idle": "2020-09-16T04:06:39.395871Z",
     "shell.execute_reply": "2020-09-16T04:06:39.394791Z"
    },
    "papermill": {
     "duration": 0.105329,
     "end_time": "2020-09-16T04:06:39.396063",
     "exception": false,
     "start_time": "2020-09-16T04:06:39.290734",
     "status": "completed"
    },
    "tags": []
   },
   "outputs": [
    {
     "name": "stdout",
     "output_type": "stream",
     "text": [
      "<class 'pandas.core.frame.DataFrame'>\n",
      "RangeIndex: 32560 entries, 0 to 32559\n",
      "Data columns (total 16 columns):\n",
      " #   Column          Non-Null Count  Dtype \n",
      "---  ------          --------------  ----- \n",
      " 0   Id              32560 non-null  int64 \n",
      " 1   Age             32560 non-null  int64 \n",
      " 2   Workclass       30724 non-null  object\n",
      " 3   fnlwgt          32560 non-null  int64 \n",
      " 4   Education       32560 non-null  object\n",
      " 5   education-num   32560 non-null  int64 \n",
      " 6   Martial Status  32560 non-null  object\n",
      " 7   Occupation      30717 non-null  object\n",
      " 8   relationship    32560 non-null  object\n",
      " 9   Race            32560 non-null  object\n",
      " 10  Sex             32560 non-null  object\n",
      " 11  Capital Gain    32560 non-null  int64 \n",
      " 12  Capital Loss    32560 non-null  int64 \n",
      " 13  Hours per week  32560 non-null  int64 \n",
      " 14  Country         31977 non-null  object\n",
      " 15  Target          32560 non-null  object\n",
      "dtypes: int64(7), object(9)\n",
      "memory usage: 4.0+ MB\n"
     ]
    }
   ],
   "source": [
    "adult_train.info()"
   ]
  },
  {
   "cell_type": "markdown",
   "metadata": {
    "papermill": {
     "duration": 0.04728,
     "end_time": "2020-09-16T04:06:39.491674",
     "exception": false,
     "start_time": "2020-09-16T04:06:39.444394",
     "status": "completed"
    },
    "tags": []
   },
   "source": [
    "A partir das informações, indentificam-se dados faltantes apenas em Workclass (1.836), Occupation (1.843) e Country (583). Como as linhas com dados faltantes representam 7,37% da totalidade, decidiu-se desconsiderá-las, pois não impactariam radicalmente na acurácia do classificador."
   ]
  },
  {
   "cell_type": "code",
   "execution_count": 6,
   "metadata": {
    "execution": {
     "iopub.execute_input": "2020-09-16T04:06:39.624164Z",
     "iopub.status.busy": "2020-09-16T04:06:39.592236Z",
     "iopub.status.idle": "2020-09-16T04:06:39.680088Z",
     "shell.execute_reply": "2020-09-16T04:06:39.679215Z"
    },
    "papermill": {
     "duration": 0.141022,
     "end_time": "2020-09-16T04:06:39.680245",
     "exception": false,
     "start_time": "2020-09-16T04:06:39.539223",
     "status": "completed"
    },
    "tags": []
   },
   "outputs": [],
   "source": [
    "Nadult_train = adult_train.dropna()\n",
    "Nadult_test = adult_test.dropna()"
   ]
  },
  {
   "cell_type": "markdown",
   "metadata": {
    "papermill": {
     "duration": 0.047474,
     "end_time": "2020-09-16T04:06:39.776023",
     "exception": false,
     "start_time": "2020-09-16T04:06:39.728549",
     "status": "completed"
    },
    "tags": []
   },
   "source": [
    "Faz-se o mesmo com os dados de teste."
   ]
  },
  {
   "cell_type": "markdown",
   "metadata": {
    "papermill": {
     "duration": 0.046758,
     "end_time": "2020-09-16T04:06:39.869945",
     "exception": false,
     "start_time": "2020-09-16T04:06:39.823187",
     "status": "completed"
    },
    "tags": []
   },
   "source": [
    "# 2.  **Análise dos Dados**\n",
    "\n",
    "Nesta etapa, haverá a exploração dos dados para uma melhor compreensão de como se comportam. Já se sabe que os dados possuem 14 atributos, cada um representado por uma coluna, os quais podem ser pouco relevantes ou representar características similiares. Como busca-se classificar a variável que representa a renda anual (Target), é importante entender como os atibutos a influenciam.\n",
    "\n",
    "* Atributos similares:\n",
    "\n",
    "Observaremos se existem atributos correlacionados, ou seja, que representam características parecidas."
   ]
  },
  {
   "cell_type": "code",
   "execution_count": 7,
   "metadata": {
    "execution": {
     "iopub.execute_input": "2020-09-16T04:06:39.970750Z",
     "iopub.status.busy": "2020-09-16T04:06:39.969946Z",
     "iopub.status.idle": "2020-09-16T04:06:40.176818Z",
     "shell.execute_reply": "2020-09-16T04:06:40.175228Z"
    },
    "papermill": {
     "duration": 0.259982,
     "end_time": "2020-09-16T04:06:40.177010",
     "exception": false,
     "start_time": "2020-09-16T04:06:39.917028",
     "status": "completed"
    },
    "tags": []
   },
   "outputs": [
    {
     "data": {
      "text/html": [
       "<div>\n",
       "<style scoped>\n",
       "    .dataframe tbody tr th:only-of-type {\n",
       "        vertical-align: middle;\n",
       "    }\n",
       "\n",
       "    .dataframe tbody tr th {\n",
       "        vertical-align: top;\n",
       "    }\n",
       "\n",
       "    .dataframe thead th {\n",
       "        text-align: right;\n",
       "    }\n",
       "</style>\n",
       "<table border=\"1\" class=\"dataframe\">\n",
       "  <thead>\n",
       "    <tr style=\"text-align: right;\">\n",
       "      <th></th>\n",
       "      <th>Id</th>\n",
       "      <th>Age</th>\n",
       "      <th>Workclass</th>\n",
       "      <th>fnlwgt</th>\n",
       "      <th>Education</th>\n",
       "      <th>education-num</th>\n",
       "      <th>Martial Status</th>\n",
       "      <th>Occupation</th>\n",
       "      <th>relationship</th>\n",
       "      <th>Race</th>\n",
       "      <th>Sex</th>\n",
       "      <th>Capital Gain</th>\n",
       "      <th>Capital Loss</th>\n",
       "      <th>Hours per week</th>\n",
       "      <th>Country</th>\n",
       "      <th>Target</th>\n",
       "    </tr>\n",
       "  </thead>\n",
       "  <tbody>\n",
       "    <tr>\n",
       "      <th>Id</th>\n",
       "      <td>1.000000</td>\n",
       "      <td>-0.008950</td>\n",
       "      <td>0.003467</td>\n",
       "      <td>0.006157</td>\n",
       "      <td>-0.000378</td>\n",
       "      <td>-0.003674</td>\n",
       "      <td>-0.009649</td>\n",
       "      <td>0.004924</td>\n",
       "      <td>-0.002004</td>\n",
       "      <td>0.003632</td>\n",
       "      <td>-0.007869</td>\n",
       "      <td>0.001655</td>\n",
       "      <td>-0.006221</td>\n",
       "      <td>0.000518</td>\n",
       "      <td>0.003274</td>\n",
       "      <td>-0.002498</td>\n",
       "    </tr>\n",
       "    <tr>\n",
       "      <th>Age</th>\n",
       "      <td>-0.008950</td>\n",
       "      <td>1.000000</td>\n",
       "      <td>0.080633</td>\n",
       "      <td>-0.078139</td>\n",
       "      <td>-0.001099</td>\n",
       "      <td>0.043543</td>\n",
       "      <td>-0.276618</td>\n",
       "      <td>-0.005656</td>\n",
       "      <td>-0.246619</td>\n",
       "      <td>0.023428</td>\n",
       "      <td>0.082036</td>\n",
       "      <td>0.127099</td>\n",
       "      <td>0.066325</td>\n",
       "      <td>0.102539</td>\n",
       "      <td>-0.001892</td>\n",
       "      <td>0.242196</td>\n",
       "    </tr>\n",
       "    <tr>\n",
       "      <th>Workclass</th>\n",
       "      <td>0.003467</td>\n",
       "      <td>0.080633</td>\n",
       "      <td>1.000000</td>\n",
       "      <td>-0.035731</td>\n",
       "      <td>0.017892</td>\n",
       "      <td>0.037729</td>\n",
       "      <td>-0.034338</td>\n",
       "      <td>0.015719</td>\n",
       "      <td>-0.067401</td>\n",
       "      <td>0.044700</td>\n",
       "      <td>0.074917</td>\n",
       "      <td>0.022714</td>\n",
       "      <td>0.011633</td>\n",
       "      <td>0.049054</td>\n",
       "      <td>0.007644</td>\n",
       "      <td>0.018103</td>\n",
       "    </tr>\n",
       "    <tr>\n",
       "      <th>fnlwgt</th>\n",
       "      <td>0.006157</td>\n",
       "      <td>-0.078139</td>\n",
       "      <td>-0.035731</td>\n",
       "      <td>1.000000</td>\n",
       "      <td>-0.025358</td>\n",
       "      <td>-0.043898</td>\n",
       "      <td>0.034130</td>\n",
       "      <td>0.001949</td>\n",
       "      <td>0.006867</td>\n",
       "      <td>-0.012018</td>\n",
       "      <td>0.024612</td>\n",
       "      <td>-0.005071</td>\n",
       "      <td>-0.009571</td>\n",
       "      <td>-0.024575</td>\n",
       "      <td>-0.070081</td>\n",
       "      <td>-0.009987</td>\n",
       "    </tr>\n",
       "    <tr>\n",
       "      <th>Education</th>\n",
       "      <td>-0.000378</td>\n",
       "      <td>-0.001099</td>\n",
       "      <td>0.017892</td>\n",
       "      <td>-0.025358</td>\n",
       "      <td>1.000000</td>\n",
       "      <td>0.345431</td>\n",
       "      <td>-0.040654</td>\n",
       "      <td>-0.038231</td>\n",
       "      <td>-0.012720</td>\n",
       "      <td>0.011158</td>\n",
       "      <td>-0.027880</td>\n",
       "      <td>0.032229</td>\n",
       "      <td>0.014866</td>\n",
       "      <td>0.060629</td>\n",
       "      <td>0.078794</td>\n",
       "      <td>0.078981</td>\n",
       "    </tr>\n",
       "    <tr>\n",
       "      <th>education-num</th>\n",
       "      <td>-0.003674</td>\n",
       "      <td>0.043543</td>\n",
       "      <td>0.037729</td>\n",
       "      <td>-0.043898</td>\n",
       "      <td>0.345431</td>\n",
       "      <td>1.000000</td>\n",
       "      <td>-0.063457</td>\n",
       "      <td>0.087778</td>\n",
       "      <td>-0.091928</td>\n",
       "      <td>0.032791</td>\n",
       "      <td>0.006131</td>\n",
       "      <td>0.154438</td>\n",
       "      <td>0.083868</td>\n",
       "      <td>0.154690</td>\n",
       "      <td>0.091547</td>\n",
       "      <td>0.335317</td>\n",
       "    </tr>\n",
       "    <tr>\n",
       "      <th>Martial Status</th>\n",
       "      <td>-0.009649</td>\n",
       "      <td>-0.276618</td>\n",
       "      <td>-0.034338</td>\n",
       "      <td>0.034130</td>\n",
       "      <td>-0.040654</td>\n",
       "      <td>-0.063457</td>\n",
       "      <td>1.000000</td>\n",
       "      <td>0.022702</td>\n",
       "      <td>0.177975</td>\n",
       "      <td>-0.068641</td>\n",
       "      <td>-0.119837</td>\n",
       "      <td>-0.072170</td>\n",
       "      <td>-0.035856</td>\n",
       "      <td>-0.191256</td>\n",
       "      <td>-0.025911</td>\n",
       "      <td>-0.193504</td>\n",
       "    </tr>\n",
       "    <tr>\n",
       "      <th>Occupation</th>\n",
       "      <td>0.004924</td>\n",
       "      <td>-0.005656</td>\n",
       "      <td>0.015719</td>\n",
       "      <td>0.001949</td>\n",
       "      <td>-0.038231</td>\n",
       "      <td>0.087778</td>\n",
       "      <td>0.022702</td>\n",
       "      <td>1.000000</td>\n",
       "      <td>-0.053742</td>\n",
       "      <td>0.000736</td>\n",
       "      <td>0.062350</td>\n",
       "      <td>0.018123</td>\n",
       "      <td>0.013878</td>\n",
       "      <td>0.017495</td>\n",
       "      <td>-0.003470</td>\n",
       "      <td>0.051551</td>\n",
       "    </tr>\n",
       "    <tr>\n",
       "      <th>relationship</th>\n",
       "      <td>-0.002004</td>\n",
       "      <td>-0.246619</td>\n",
       "      <td>-0.067401</td>\n",
       "      <td>0.006867</td>\n",
       "      <td>-0.012720</td>\n",
       "      <td>-0.091928</td>\n",
       "      <td>0.177975</td>\n",
       "      <td>-0.053742</td>\n",
       "      <td>1.000000</td>\n",
       "      <td>-0.117140</td>\n",
       "      <td>-0.584876</td>\n",
       "      <td>-0.092799</td>\n",
       "      <td>-0.066306</td>\n",
       "      <td>-0.260494</td>\n",
       "      <td>-0.010806</td>\n",
       "      <td>-0.251009</td>\n",
       "    </tr>\n",
       "    <tr>\n",
       "      <th>Race</th>\n",
       "      <td>0.003632</td>\n",
       "      <td>0.023428</td>\n",
       "      <td>0.044700</td>\n",
       "      <td>-0.012018</td>\n",
       "      <td>0.011158</td>\n",
       "      <td>0.032791</td>\n",
       "      <td>-0.068641</td>\n",
       "      <td>0.000736</td>\n",
       "      <td>-0.117140</td>\n",
       "      <td>1.000000</td>\n",
       "      <td>0.089178</td>\n",
       "      <td>0.025719</td>\n",
       "      <td>0.023372</td>\n",
       "      <td>0.049021</td>\n",
       "      <td>0.124511</td>\n",
       "      <td>0.071666</td>\n",
       "    </tr>\n",
       "    <tr>\n",
       "      <th>Sex</th>\n",
       "      <td>-0.007869</td>\n",
       "      <td>0.082036</td>\n",
       "      <td>0.074917</td>\n",
       "      <td>0.024612</td>\n",
       "      <td>-0.027880</td>\n",
       "      <td>0.006131</td>\n",
       "      <td>-0.119837</td>\n",
       "      <td>0.062350</td>\n",
       "      <td>-0.584876</td>\n",
       "      <td>0.089178</td>\n",
       "      <td>1.000000</td>\n",
       "      <td>0.078442</td>\n",
       "      <td>0.050951</td>\n",
       "      <td>0.233435</td>\n",
       "      <td>0.000612</td>\n",
       "      <td>0.216715</td>\n",
       "    </tr>\n",
       "    <tr>\n",
       "      <th>Capital Gain</th>\n",
       "      <td>0.001655</td>\n",
       "      <td>0.127099</td>\n",
       "      <td>0.022714</td>\n",
       "      <td>-0.005071</td>\n",
       "      <td>0.032229</td>\n",
       "      <td>0.154438</td>\n",
       "      <td>-0.072170</td>\n",
       "      <td>0.018123</td>\n",
       "      <td>-0.092799</td>\n",
       "      <td>0.025719</td>\n",
       "      <td>0.078442</td>\n",
       "      <td>1.000000</td>\n",
       "      <td>-0.058157</td>\n",
       "      <td>0.102410</td>\n",
       "      <td>0.013968</td>\n",
       "      <td>0.337331</td>\n",
       "    </tr>\n",
       "    <tr>\n",
       "      <th>Capital Loss</th>\n",
       "      <td>-0.006221</td>\n",
       "      <td>0.066325</td>\n",
       "      <td>0.011633</td>\n",
       "      <td>-0.009571</td>\n",
       "      <td>0.014866</td>\n",
       "      <td>0.083868</td>\n",
       "      <td>-0.035856</td>\n",
       "      <td>0.013878</td>\n",
       "      <td>-0.066306</td>\n",
       "      <td>0.023372</td>\n",
       "      <td>0.050951</td>\n",
       "      <td>-0.058157</td>\n",
       "      <td>1.000000</td>\n",
       "      <td>0.057450</td>\n",
       "      <td>0.009375</td>\n",
       "      <td>0.162075</td>\n",
       "    </tr>\n",
       "    <tr>\n",
       "      <th>Hours per week</th>\n",
       "      <td>0.000518</td>\n",
       "      <td>0.102539</td>\n",
       "      <td>0.049054</td>\n",
       "      <td>-0.024575</td>\n",
       "      <td>0.060629</td>\n",
       "      <td>0.154690</td>\n",
       "      <td>-0.191256</td>\n",
       "      <td>0.017495</td>\n",
       "      <td>-0.260494</td>\n",
       "      <td>0.049021</td>\n",
       "      <td>0.233435</td>\n",
       "      <td>0.102410</td>\n",
       "      <td>0.057450</td>\n",
       "      <td>1.000000</td>\n",
       "      <td>0.008348</td>\n",
       "      <td>0.232328</td>\n",
       "    </tr>\n",
       "    <tr>\n",
       "      <th>Country</th>\n",
       "      <td>0.003274</td>\n",
       "      <td>-0.001892</td>\n",
       "      <td>0.007644</td>\n",
       "      <td>-0.070081</td>\n",
       "      <td>0.078794</td>\n",
       "      <td>0.091547</td>\n",
       "      <td>-0.025911</td>\n",
       "      <td>-0.003470</td>\n",
       "      <td>-0.010806</td>\n",
       "      <td>0.124511</td>\n",
       "      <td>0.000612</td>\n",
       "      <td>0.013968</td>\n",
       "      <td>0.009375</td>\n",
       "      <td>0.008348</td>\n",
       "      <td>1.000000</td>\n",
       "      <td>0.023273</td>\n",
       "    </tr>\n",
       "    <tr>\n",
       "      <th>Target</th>\n",
       "      <td>-0.002498</td>\n",
       "      <td>0.242196</td>\n",
       "      <td>0.018103</td>\n",
       "      <td>-0.009987</td>\n",
       "      <td>0.078981</td>\n",
       "      <td>0.335317</td>\n",
       "      <td>-0.193504</td>\n",
       "      <td>0.051551</td>\n",
       "      <td>-0.251009</td>\n",
       "      <td>0.071666</td>\n",
       "      <td>0.216715</td>\n",
       "      <td>0.337331</td>\n",
       "      <td>0.162075</td>\n",
       "      <td>0.232328</td>\n",
       "      <td>0.023273</td>\n",
       "      <td>1.000000</td>\n",
       "    </tr>\n",
       "  </tbody>\n",
       "</table>\n",
       "</div>"
      ],
      "text/plain": [
       "                      Id       Age  Workclass    fnlwgt  Education  \\\n",
       "Id              1.000000 -0.008950   0.003467  0.006157  -0.000378   \n",
       "Age            -0.008950  1.000000   0.080633 -0.078139  -0.001099   \n",
       "Workclass       0.003467  0.080633   1.000000 -0.035731   0.017892   \n",
       "fnlwgt          0.006157 -0.078139  -0.035731  1.000000  -0.025358   \n",
       "Education      -0.000378 -0.001099   0.017892 -0.025358   1.000000   \n",
       "education-num  -0.003674  0.043543   0.037729 -0.043898   0.345431   \n",
       "Martial Status -0.009649 -0.276618  -0.034338  0.034130  -0.040654   \n",
       "Occupation      0.004924 -0.005656   0.015719  0.001949  -0.038231   \n",
       "relationship   -0.002004 -0.246619  -0.067401  0.006867  -0.012720   \n",
       "Race            0.003632  0.023428   0.044700 -0.012018   0.011158   \n",
       "Sex            -0.007869  0.082036   0.074917  0.024612  -0.027880   \n",
       "Capital Gain    0.001655  0.127099   0.022714 -0.005071   0.032229   \n",
       "Capital Loss   -0.006221  0.066325   0.011633 -0.009571   0.014866   \n",
       "Hours per week  0.000518  0.102539   0.049054 -0.024575   0.060629   \n",
       "Country         0.003274 -0.001892   0.007644 -0.070081   0.078794   \n",
       "Target         -0.002498  0.242196   0.018103 -0.009987   0.078981   \n",
       "\n",
       "                education-num  Martial Status  Occupation  relationship  \\\n",
       "Id                  -0.003674       -0.009649    0.004924     -0.002004   \n",
       "Age                  0.043543       -0.276618   -0.005656     -0.246619   \n",
       "Workclass            0.037729       -0.034338    0.015719     -0.067401   \n",
       "fnlwgt              -0.043898        0.034130    0.001949      0.006867   \n",
       "Education            0.345431       -0.040654   -0.038231     -0.012720   \n",
       "education-num        1.000000       -0.063457    0.087778     -0.091928   \n",
       "Martial Status      -0.063457        1.000000    0.022702      0.177975   \n",
       "Occupation           0.087778        0.022702    1.000000     -0.053742   \n",
       "relationship        -0.091928        0.177975   -0.053742      1.000000   \n",
       "Race                 0.032791       -0.068641    0.000736     -0.117140   \n",
       "Sex                  0.006131       -0.119837    0.062350     -0.584876   \n",
       "Capital Gain         0.154438       -0.072170    0.018123     -0.092799   \n",
       "Capital Loss         0.083868       -0.035856    0.013878     -0.066306   \n",
       "Hours per week       0.154690       -0.191256    0.017495     -0.260494   \n",
       "Country              0.091547       -0.025911   -0.003470     -0.010806   \n",
       "Target               0.335317       -0.193504    0.051551     -0.251009   \n",
       "\n",
       "                    Race       Sex  Capital Gain  Capital Loss  \\\n",
       "Id              0.003632 -0.007869      0.001655     -0.006221   \n",
       "Age             0.023428  0.082036      0.127099      0.066325   \n",
       "Workclass       0.044700  0.074917      0.022714      0.011633   \n",
       "fnlwgt         -0.012018  0.024612     -0.005071     -0.009571   \n",
       "Education       0.011158 -0.027880      0.032229      0.014866   \n",
       "education-num   0.032791  0.006131      0.154438      0.083868   \n",
       "Martial Status -0.068641 -0.119837     -0.072170     -0.035856   \n",
       "Occupation      0.000736  0.062350      0.018123      0.013878   \n",
       "relationship   -0.117140 -0.584876     -0.092799     -0.066306   \n",
       "Race            1.000000  0.089178      0.025719      0.023372   \n",
       "Sex             0.089178  1.000000      0.078442      0.050951   \n",
       "Capital Gain    0.025719  0.078442      1.000000     -0.058157   \n",
       "Capital Loss    0.023372  0.050951     -0.058157      1.000000   \n",
       "Hours per week  0.049021  0.233435      0.102410      0.057450   \n",
       "Country         0.124511  0.000612      0.013968      0.009375   \n",
       "Target          0.071666  0.216715      0.337331      0.162075   \n",
       "\n",
       "                Hours per week   Country    Target  \n",
       "Id                    0.000518  0.003274 -0.002498  \n",
       "Age                   0.102539 -0.001892  0.242196  \n",
       "Workclass             0.049054  0.007644  0.018103  \n",
       "fnlwgt               -0.024575 -0.070081 -0.009987  \n",
       "Education             0.060629  0.078794  0.078981  \n",
       "education-num         0.154690  0.091547  0.335317  \n",
       "Martial Status       -0.191256 -0.025911 -0.193504  \n",
       "Occupation            0.017495 -0.003470  0.051551  \n",
       "relationship         -0.260494 -0.010806 -0.251009  \n",
       "Race                  0.049021  0.124511  0.071666  \n",
       "Sex                   0.233435  0.000612  0.216715  \n",
       "Capital Gain          0.102410  0.013968  0.337331  \n",
       "Capital Loss          0.057450  0.009375  0.162075  \n",
       "Hours per week        1.000000  0.008348  0.232328  \n",
       "Country               0.008348  1.000000  0.023273  \n",
       "Target                0.232328  0.023273  1.000000  "
      ]
     },
     "execution_count": 7,
     "metadata": {},
     "output_type": "execute_result"
    }
   ],
   "source": [
    "Nadult_train.apply(preprocessing.LabelEncoder().fit_transform).corr()"
   ]
  },
  {
   "cell_type": "code",
   "execution_count": 8,
   "metadata": {
    "execution": {
     "iopub.execute_input": "2020-09-16T04:06:40.290533Z",
     "iopub.status.busy": "2020-09-16T04:06:40.289663Z",
     "iopub.status.idle": "2020-09-16T04:06:40.908391Z",
     "shell.execute_reply": "2020-09-16T04:06:40.907742Z"
    },
    "papermill": {
     "duration": 0.678619,
     "end_time": "2020-09-16T04:06:40.908547",
     "exception": false,
     "start_time": "2020-09-16T04:06:40.229928",
     "status": "completed"
    },
    "tags": []
   },
   "outputs": [
    {
     "data": {
      "text/plain": [
       "<matplotlib.axes._subplots.AxesSubplot at 0x7f0aa4ab12d0>"
      ]
     },
     "execution_count": 8,
     "metadata": {},
     "output_type": "execute_result"
    },
    {
     "data": {
      "image/png": "[encoded data removed]",
      "text/plain": [
       "<Figure size 432x288 with 2 Axes>"
      ]
     },
     "metadata": {
      "needs_background": "light"
     },
     "output_type": "display_data"
    }
   ],
   "source": [
    "Nadult_train_corr = Nadult_train.apply(preprocessing.LabelEncoder().fit_transform).corr()\n",
    "sns.heatmap(Nadult_train_corr, vmin=-0.4, vmax=0.4, center=0, cmap='Greens', linewidths=2, linecolor='black')"
   ]
  },
  {
   "cell_type": "markdown",
   "metadata": {
    "papermill": {
     "duration": 0.051169,
     "end_time": "2020-09-16T04:06:41.011564",
     "exception": false,
     "start_time": "2020-09-16T04:06:40.960395",
     "status": "completed"
    },
    "tags": []
   },
   "source": [
    "Primeiramente, observa-se que os pares de atributos: Education e education num, Martial status e relationship representam características similares, dado que a correlação entre eles é muito alta. Por essa razão, Education e relationship serão desconsiderados para a classificação.\n",
    "\n",
    "Por outro lado, é possível identificar que os atributos fnlwgt, Martial Status, relationship, Workclass e Country estão pouco relacionados com o que busca-se classificar: Target.\n",
    "\n",
    "Além disso, há uma considerável correlação entre Hours per week e Sex."
   ]
  },
  {
   "cell_type": "markdown",
   "metadata": {
    "papermill": {
     "duration": 0.05142,
     "end_time": "2020-09-16T04:06:41.115227",
     "exception": false,
     "start_time": "2020-09-16T04:06:41.063807",
     "status": "completed"
    },
    "tags": []
   },
   "source": [
    "* **Age:**"
   ]
  },
  {
   "cell_type": "code",
   "execution_count": 9,
   "metadata": {
    "execution": {
     "iopub.execute_input": "2020-09-16T04:06:41.226314Z",
     "iopub.status.busy": "2020-09-16T04:06:41.225420Z",
     "iopub.status.idle": "2020-09-16T04:06:41.450706Z",
     "shell.execute_reply": "2020-09-16T04:06:41.449936Z"
    },
    "papermill": {
     "duration": 0.284229,
     "end_time": "2020-09-16T04:06:41.450894",
     "exception": false,
     "start_time": "2020-09-16T04:06:41.166665",
     "status": "completed"
    },
    "tags": []
   },
   "outputs": [
    {
     "data": {
      "text/plain": [
       "Text(0.5, 0, 'Age')"
      ]
     },
     "execution_count": 9,
     "metadata": {},
     "output_type": "execute_result"
    },
    {
     "data": {
      "image/png": "[encoded data removed]",
      "text/plain": [
       "<Figure size 432x288 with 1 Axes>"
      ]
     },
     "metadata": {
      "needs_background": "light"
     },
     "output_type": "display_data"
    }
   ],
   "source": [
    "adult_train['Age'].hist(color = 'blue', grid=False, label = True)\n",
    "plt.xlabel('Age')"
   ]
  },
  {
   "cell_type": "markdown",
   "metadata": {
    "papermill": {
     "duration": 0.05352,
     "end_time": "2020-09-16T04:06:41.558364",
     "exception": false,
     "start_time": "2020-09-16T04:06:41.504844",
     "status": "completed"
    },
    "tags": []
   },
   "source": [
    "A partir do histograma acima, conclui-se que a população estudada possui majoritariamente de 20 a 45 anos."
   ]
  },
  {
   "cell_type": "markdown",
   "metadata": {
    "papermill": {
     "duration": 0.053886,
     "end_time": "2020-09-16T04:06:41.665977",
     "exception": false,
     "start_time": "2020-09-16T04:06:41.612091",
     "status": "completed"
    },
    "tags": []
   },
   "source": [
    "* **Workclass:**"
   ]
  },
  {
   "cell_type": "code",
   "execution_count": 10,
   "metadata": {
    "execution": {
     "iopub.execute_input": "2020-09-16T04:06:41.796326Z",
     "iopub.status.busy": "2020-09-16T04:06:41.793584Z",
     "iopub.status.idle": "2020-09-16T04:06:41.802545Z",
     "shell.execute_reply": "2020-09-16T04:06:41.801711Z"
    },
    "papermill": {
     "duration": 0.082461,
     "end_time": "2020-09-16T04:06:41.802702",
     "exception": false,
     "start_time": "2020-09-16T04:06:41.720241",
     "status": "completed"
    },
    "tags": []
   },
   "outputs": [
    {
     "data": {
      "text/plain": [
       "count       30724\n",
       "unique          8\n",
       "top       Private\n",
       "freq        22696\n",
       "Name: Workclass, dtype: object"
      ]
     },
     "execution_count": 10,
     "metadata": {},
     "output_type": "execute_result"
    }
   ],
   "source": [
    "adult_train['Workclass'].describe()"
   ]
  },
  {
   "cell_type": "code",
   "execution_count": 11,
   "metadata": {
    "execution": {
     "iopub.execute_input": "2020-09-16T04:06:41.929118Z",
     "iopub.status.busy": "2020-09-16T04:06:41.921698Z",
     "iopub.status.idle": "2020-09-16T04:06:41.935151Z",
     "shell.execute_reply": "2020-09-16T04:06:41.934394Z"
    },
    "papermill": {
     "duration": 0.077932,
     "end_time": "2020-09-16T04:06:41.935296",
     "exception": false,
     "start_time": "2020-09-16T04:06:41.857364",
     "status": "completed"
    },
    "tags": []
   },
   "outputs": [
    {
     "data": {
      "text/plain": [
       "Private             22696\n",
       "Self-emp-not-inc     2541\n",
       "Local-gov            2093\n",
       "State-gov            1297\n",
       "Self-emp-inc         1116\n",
       "Federal-gov           960\n",
       "Without-pay            14\n",
       "Never-worked            7\n",
       "Name: Workclass, dtype: int64"
      ]
     },
     "execution_count": 11,
     "metadata": {},
     "output_type": "execute_result"
    }
   ],
   "source": [
    "adult_train['Workclass'].value_counts()"
   ]
  },
  {
   "cell_type": "markdown",
   "metadata": {
    "papermill": {
     "duration": 0.055663,
     "end_time": "2020-09-16T04:06:42.047313",
     "exception": false,
     "start_time": "2020-09-16T04:06:41.991650",
     "status": "completed"
    },
    "tags": []
   },
   "source": [
    "Com essas informações, inteira-se do fato de que 69,7% da população em questão trabalha na esfera privada. Por conta dessa concentração e pela observação de que o aributo está pouco correlacionado a Target, Workclass não será considerado para a classificação."
   ]
  },
  {
   "cell_type": "markdown",
   "metadata": {
    "papermill": {
     "duration": 0.053811,
     "end_time": "2020-09-16T04:06:42.156864",
     "exception": false,
     "start_time": "2020-09-16T04:06:42.103053",
     "status": "completed"
    },
    "tags": []
   },
   "source": [
    "* **fnlwgt**"
   ]
  },
  {
   "cell_type": "code",
   "execution_count": 12,
   "metadata": {
    "execution": {
     "iopub.execute_input": "2020-09-16T04:06:42.286295Z",
     "iopub.status.busy": "2020-09-16T04:06:42.285172Z",
     "iopub.status.idle": "2020-09-16T04:06:42.295605Z",
     "shell.execute_reply": "2020-09-16T04:06:42.296245Z"
    },
    "papermill": {
     "duration": 0.078409,
     "end_time": "2020-09-16T04:06:42.296418",
     "exception": false,
     "start_time": "2020-09-16T04:06:42.218009",
     "status": "completed"
    },
    "tags": []
   },
   "outputs": [
    {
     "data": {
      "text/plain": [
       "164190    13\n",
       "123011    13\n",
       "203488    13\n",
       "113364    12\n",
       "126675    12\n",
       "          ..\n",
       "277588     1\n",
       "277886     1\n",
       "370045     1\n",
       "114324     1\n",
       "229376     1\n",
       "Name: fnlwgt, Length: 21647, dtype: int64"
      ]
     },
     "execution_count": 12,
     "metadata": {},
     "output_type": "execute_result"
    }
   ],
   "source": [
    "adult_train['fnlwgt'].value_counts()"
   ]
  },
  {
   "cell_type": "code",
   "execution_count": 13,
   "metadata": {
    "execution": {
     "iopub.execute_input": "2020-09-16T04:06:42.418143Z",
     "iopub.status.busy": "2020-09-16T04:06:42.417352Z",
     "iopub.status.idle": "2020-09-16T04:06:42.433533Z",
     "shell.execute_reply": "2020-09-16T04:06:42.432611Z"
    },
    "papermill": {
     "duration": 0.078069,
     "end_time": "2020-09-16T04:06:42.433722",
     "exception": false,
     "start_time": "2020-09-16T04:06:42.355653",
     "status": "completed"
    },
    "tags": []
   },
   "outputs": [
    {
     "data": {
      "text/plain": [
       "count    3.256000e+04\n",
       "mean     1.897818e+05\n",
       "std      1.055498e+05\n",
       "min      1.228500e+04\n",
       "25%      1.178315e+05\n",
       "50%      1.783630e+05\n",
       "75%      2.370545e+05\n",
       "max      1.484705e+06\n",
       "Name: fnlwgt, dtype: float64"
      ]
     },
     "execution_count": 13,
     "metadata": {},
     "output_type": "execute_result"
    }
   ],
   "source": [
    "adult_train['fnlwgt'].describe()"
   ]
  },
  {
   "cell_type": "markdown",
   "metadata": {
    "papermill": {
     "duration": 0.05405,
     "end_time": "2020-09-16T04:06:42.547273",
     "exception": false,
     "start_time": "2020-09-16T04:06:42.493223",
     "status": "completed"
    },
    "tags": []
   },
   "source": [
    "A partir destes dados, verifica-se que o atributo fnlwgt é muito específico e pouco influencia na renda anual. Por isso,também será desconsiderado."
   ]
  },
  {
   "cell_type": "markdown",
   "metadata": {
    "papermill": {
     "duration": 0.053979,
     "end_time": "2020-09-16T04:06:42.655780",
     "exception": false,
     "start_time": "2020-09-16T04:06:42.601801",
     "status": "completed"
    },
    "tags": []
   },
   "source": [
    "* **education-num**"
   ]
  },
  {
   "cell_type": "code",
   "execution_count": 14,
   "metadata": {
    "execution": {
     "iopub.execute_input": "2020-09-16T04:06:42.783157Z",
     "iopub.status.busy": "2020-09-16T04:06:42.782317Z",
     "iopub.status.idle": "2020-09-16T04:06:43.035967Z",
     "shell.execute_reply": "2020-09-16T04:06:43.035163Z"
    },
    "papermill": {
     "duration": 0.322764,
     "end_time": "2020-09-16T04:06:43.036122",
     "exception": false,
     "start_time": "2020-09-16T04:06:42.713358",
     "status": "completed"
    },
    "tags": []
   },
   "outputs": [
    {
     "data": {
      "text/plain": [
       "Text(0.5, 0, 'Nível Educacional')"
      ]
     },
     "execution_count": 14,
     "metadata": {},
     "output_type": "execute_result"
    },
    {
     "data": {
      "image/png": "[encoded data removed]",
      "text/plain": [
       "<Figure size 432x288 with 1 Axes>"
      ]
     },
     "metadata": {
      "needs_background": "light"
     },
     "output_type": "display_data"
    }
   ],
   "source": [
    "menor50K = adult_train[adult_train['Target'] == '<=50K']\n",
    "maior50K = adult_train[adult_train['Target'] == '>50K']\n",
    "\n",
    "menor50K['education-num'].hist(color = 'red', alpha = 0.7, grid = False, label = '<=50K')\n",
    "maior50K['education-num'].hist(color = 'green', alpha = 0.7, grid = False, label = '>50K')\n",
    "\n",
    "plt.legend()\n",
    "plt.xlabel('Nível Educacional')"
   ]
  },
  {
   "cell_type": "markdown",
   "metadata": {
    "papermill": {
     "duration": 0.056283,
     "end_time": "2020-09-16T04:06:43.149131",
     "exception": false,
     "start_time": "2020-09-16T04:06:43.092848",
     "status": "completed"
    },
    "tags": []
   },
   "source": [
    "O histograma acima relaciona o nível educacional (education-num) com a renda anual (Target), é visível que aqueles com maior escolaridade possuem, em sua maioria, maior renda."
   ]
  },
  {
   "cell_type": "markdown",
   "metadata": {
    "papermill": {
     "duration": 0.057221,
     "end_time": "2020-09-16T04:06:43.262221",
     "exception": false,
     "start_time": "2020-09-16T04:06:43.205000",
     "status": "completed"
    },
    "tags": []
   },
   "source": [
    "* **Occupation:**"
   ]
  },
  {
   "cell_type": "code",
   "execution_count": 15,
   "metadata": {
    "execution": {
     "iopub.execute_input": "2020-09-16T04:06:43.391277Z",
     "iopub.status.busy": "2020-09-16T04:06:43.390319Z",
     "iopub.status.idle": "2020-09-16T04:06:43.395434Z",
     "shell.execute_reply": "2020-09-16T04:06:43.396034Z"
    },
    "papermill": {
     "duration": 0.077974,
     "end_time": "2020-09-16T04:06:43.396190",
     "exception": false,
     "start_time": "2020-09-16T04:06:43.318216",
     "status": "completed"
    },
    "tags": []
   },
   "outputs": [
    {
     "data": {
      "text/plain": [
       "Prof-specialty       4140\n",
       "Craft-repair         4099\n",
       "Exec-managerial      4066\n",
       "Adm-clerical         3769\n",
       "Sales                3650\n",
       "Other-service        3295\n",
       "Machine-op-inspct    2002\n",
       "Transport-moving     1597\n",
       "Handlers-cleaners    1370\n",
       "Farming-fishing       994\n",
       "Tech-support          928\n",
       "Protective-serv       649\n",
       "Priv-house-serv       149\n",
       "Armed-Forces            9\n",
       "Name: Occupation, dtype: int64"
      ]
     },
     "execution_count": 15,
     "metadata": {},
     "output_type": "execute_result"
    }
   ],
   "source": [
    "adult_train['Occupation'].value_counts()"
   ]
  },
  {
   "cell_type": "code",
   "execution_count": 16,
   "metadata": {
    "execution": {
     "iopub.execute_input": "2020-09-16T04:06:43.536651Z",
     "iopub.status.busy": "2020-09-16T04:06:43.535858Z",
     "iopub.status.idle": "2020-09-16T04:06:43.761946Z",
     "shell.execute_reply": "2020-09-16T04:06:43.761159Z"
    },
    "papermill": {
     "duration": 0.309834,
     "end_time": "2020-09-16T04:06:43.762073",
     "exception": false,
     "start_time": "2020-09-16T04:06:43.452239",
     "status": "completed"
    },
    "tags": []
   },
   "outputs": [
    {
     "data": {
      "text/plain": [
       "Text(0.5, 1.0, 'Histograma das ocupações de pessoas com renda anual inferior à 50 mil dólares')"
      ]
     },
     "execution_count": 16,
     "metadata": {},
     "output_type": "execute_result"
    },
    {
     "data": {
      "image/png": "[encoded data removed]",
      "text/plain": [
       "<Figure size 432x288 with 1 Axes>"
      ]
     },
     "metadata": {
      "needs_background": "light"
     },
     "output_type": "display_data"
    }
   ],
   "source": [
    "menor50K['Occupation'].value_counts().plot(kind = 'bar', color = 'orange')\n",
    "plt.title('Histograma das ocupações de pessoas com renda anual inferior à 50 mil dólares')"
   ]
  },
  {
   "cell_type": "code",
   "execution_count": 17,
   "metadata": {
    "execution": {
     "iopub.execute_input": "2020-09-16T04:06:44.042673Z",
     "iopub.status.busy": "2020-09-16T04:06:44.041515Z",
     "iopub.status.idle": "2020-09-16T04:06:44.277762Z",
     "shell.execute_reply": "2020-09-16T04:06:44.277056Z"
    },
    "papermill": {
     "duration": 0.457769,
     "end_time": "2020-09-16T04:06:44.277910",
     "exception": false,
     "start_time": "2020-09-16T04:06:43.820141",
     "status": "completed"
    },
    "tags": []
   },
   "outputs": [
    {
     "data": {
      "text/plain": [
       "Text(0.5, 1.0, 'Histograma das ocupações de pessoas com renda anual superior à 50 mil dólares')"
      ]
     },
     "execution_count": 17,
     "metadata": {},
     "output_type": "execute_result"
    },
    {
     "data": {
      "image/png": "[encoded data removed]",
      "text/plain": [
       "<Figure size 432x288 with 1 Axes>"
      ]
     },
     "metadata": {
      "needs_background": "light"
     },
     "output_type": "display_data"
    }
   ],
   "source": [
    "maior50K['Occupation'].value_counts().plot(kind = 'bar', color = 'purple')\n",
    "plt.title('Histograma das ocupações de pessoas com renda anual superior à 50 mil dólares')"
   ]
  },
  {
   "cell_type": "markdown",
   "metadata": {
    "papermill": {
     "duration": 0.059816,
     "end_time": "2020-09-16T04:06:44.398386",
     "exception": false,
     "start_time": "2020-09-16T04:06:44.338570",
     "status": "completed"
    },
    "tags": []
   },
   "source": [
    "Observa-se que as ocupações mais comuns entre pessoas com renda anual superior à 50 mil dólares são Exec-managerial e Prof-specially, enquanto as das com renda anual inferior a essa quantia são Adm-clerical e Craft-repair."
   ]
  },
  {
   "cell_type": "markdown",
   "metadata": {
    "papermill": {
     "duration": 0.059681,
     "end_time": "2020-09-16T04:06:44.518310",
     "exception": false,
     "start_time": "2020-09-16T04:06:44.458629",
     "status": "completed"
    },
    "tags": []
   },
   "source": [
    "* **Race:**"
   ]
  },
  {
   "cell_type": "code",
   "execution_count": 18,
   "metadata": {
    "execution": {
     "iopub.execute_input": "2020-09-16T04:06:44.655831Z",
     "iopub.status.busy": "2020-09-16T04:06:44.648719Z",
     "iopub.status.idle": "2020-09-16T04:06:44.661337Z",
     "shell.execute_reply": "2020-09-16T04:06:44.660606Z"
    },
    "papermill": {
     "duration": 0.082596,
     "end_time": "2020-09-16T04:06:44.661482",
     "exception": false,
     "start_time": "2020-09-16T04:06:44.578886",
     "status": "completed"
    },
    "tags": []
   },
   "outputs": [
    {
     "data": {
      "text/plain": [
       "White                 27815\n",
       "Black                  3124\n",
       "Asian-Pac-Islander     1039\n",
       "Amer-Indian-Eskimo      311\n",
       "Other                   271\n",
       "Name: Race, dtype: int64"
      ]
     },
     "execution_count": 18,
     "metadata": {},
     "output_type": "execute_result"
    }
   ],
   "source": [
    "adult_train['Race'].value_counts()"
   ]
  },
  {
   "cell_type": "code",
   "execution_count": 19,
   "metadata": {
    "execution": {
     "iopub.execute_input": "2020-09-16T04:06:44.800144Z",
     "iopub.status.busy": "2020-09-16T04:06:44.791261Z",
     "iopub.status.idle": "2020-09-16T04:06:44.969262Z",
     "shell.execute_reply": "2020-09-16T04:06:44.968651Z"
    },
    "papermill": {
     "duration": 0.245682,
     "end_time": "2020-09-16T04:06:44.969403",
     "exception": false,
     "start_time": "2020-09-16T04:06:44.723721",
     "status": "completed"
    },
    "tags": []
   },
   "outputs": [
    {
     "data": {
      "text/plain": [
       "<matplotlib.axes._subplots.AxesSubplot at 0x7f0aa48f9750>"
      ]
     },
     "execution_count": 19,
     "metadata": {},
     "output_type": "execute_result"
    },
    {
     "data": {
      "image/png": "[encoded data removed]",
      "text/plain": [
       "<Figure size 432x288 with 1 Axes>"
      ]
     },
     "metadata": {
      "needs_background": "light"
     },
     "output_type": "display_data"
    }
   ],
   "source": [
    "menor50K['Race'].hist(color = 'red', alpha = 0.7, grid = False, label = '<=50K')\n"
   ]
  },
  {
   "cell_type": "code",
   "execution_count": 20,
   "metadata": {
    "execution": {
     "iopub.execute_input": "2020-09-16T04:06:45.109825Z",
     "iopub.status.busy": "2020-09-16T04:06:45.102803Z",
     "iopub.status.idle": "2020-09-16T04:06:45.279926Z",
     "shell.execute_reply": "2020-09-16T04:06:45.279128Z"
    },
    "papermill": {
     "duration": 0.247124,
     "end_time": "2020-09-16T04:06:45.280051",
     "exception": false,
     "start_time": "2020-09-16T04:06:45.032927",
     "status": "completed"
    },
    "tags": []
   },
   "outputs": [
    {
     "data": {
      "text/plain": [
       "<matplotlib.axes._subplots.AxesSubplot at 0x7f0aa46f8410>"
      ]
     },
     "execution_count": 20,
     "metadata": {},
     "output_type": "execute_result"
    },
    {
     "data": {
      "image/png": "[encoded data removed]",
      "text/plain": [
       "<Figure size 432x288 with 1 Axes>"
      ]
     },
     "metadata": {
      "needs_background": "light"
     },
     "output_type": "display_data"
    }
   ],
   "source": [
    "maior50K['Race'].hist(color = 'green', alpha = 0.7, grid = False, label = '>50K')"
   ]
  },
  {
   "cell_type": "markdown",
   "metadata": {
    "papermill": {
     "duration": 0.062679,
     "end_time": "2020-09-16T04:06:45.406296",
     "exception": false,
     "start_time": "2020-09-16T04:06:45.343617",
     "status": "completed"
    },
    "tags": []
   },
   "source": [
    "Mesmo com a grande maioria da população estudada ser branca, percebe-se que os negros concentram-se no grupo de indivíduos com renda anual inferior à 50 mil dólares. Tal fato evidencia a desigualdade racial."
   ]
  },
  {
   "cell_type": "markdown",
   "metadata": {
    "papermill": {
     "duration": 0.062633,
     "end_time": "2020-09-16T04:06:45.532139",
     "exception": false,
     "start_time": "2020-09-16T04:06:45.469506",
     "status": "completed"
    },
    "tags": []
   },
   "source": [
    "* **Sex e Hours per week:**"
   ]
  },
  {
   "cell_type": "code",
   "execution_count": 21,
   "metadata": {
    "execution": {
     "iopub.execute_input": "2020-09-16T04:06:45.675952Z",
     "iopub.status.busy": "2020-09-16T04:06:45.668560Z",
     "iopub.status.idle": "2020-09-16T04:06:45.681415Z",
     "shell.execute_reply": "2020-09-16T04:06:45.682043Z"
    },
    "papermill": {
     "duration": 0.087029,
     "end_time": "2020-09-16T04:06:45.682312",
     "exception": false,
     "start_time": "2020-09-16T04:06:45.595283",
     "status": "completed"
    },
    "tags": []
   },
   "outputs": [
    {
     "data": {
      "text/plain": [
       "Male      21789\n",
       "Female    10771\n",
       "Name: Sex, dtype: int64"
      ]
     },
     "execution_count": 21,
     "metadata": {},
     "output_type": "execute_result"
    }
   ],
   "source": [
    "adult_train['Sex'].value_counts()"
   ]
  },
  {
   "cell_type": "code",
   "execution_count": 22,
   "metadata": {
    "execution": {
     "iopub.execute_input": "2020-09-16T04:06:45.841336Z",
     "iopub.status.busy": "2020-09-16T04:06:45.834026Z",
     "iopub.status.idle": "2020-09-16T04:06:45.913391Z",
     "shell.execute_reply": "2020-09-16T04:06:45.912577Z"
    },
    "papermill": {
     "duration": 0.165725,
     "end_time": "2020-09-16T04:06:45.913551",
     "exception": false,
     "start_time": "2020-09-16T04:06:45.747826",
     "status": "completed"
    },
    "tags": []
   },
   "outputs": [
    {
     "data": {
      "text/plain": [
       "<matplotlib.legend.Legend at 0x7f0aa46f8490>"
      ]
     },
     "execution_count": 22,
     "metadata": {},
     "output_type": "execute_result"
    },
    {
     "data": {
      "image/png": "[encoded data removed]",
      "text/plain": [
       "<Figure size 432x288 with 1 Axes>"
      ]
     },
     "metadata": {},
     "output_type": "display_data"
    }
   ],
   "source": [
    "menor50K['Sex'].value_counts().plot(kind='pie')\n",
    "plt.legend()"
   ]
  },
  {
   "cell_type": "code",
   "execution_count": 23,
   "metadata": {
    "execution": {
     "iopub.execute_input": "2020-09-16T04:06:46.074215Z",
     "iopub.status.busy": "2020-09-16T04:06:46.072877Z",
     "iopub.status.idle": "2020-09-16T04:06:46.150241Z",
     "shell.execute_reply": "2020-09-16T04:06:46.149431Z"
    },
    "papermill": {
     "duration": 0.166399,
     "end_time": "2020-09-16T04:06:46.150385",
     "exception": false,
     "start_time": "2020-09-16T04:06:45.983986",
     "status": "completed"
    },
    "tags": []
   },
   "outputs": [
    {
     "data": {
      "text/plain": [
       "<matplotlib.legend.Legend at 0x7f0aa4558150>"
      ]
     },
     "execution_count": 23,
     "metadata": {},
     "output_type": "execute_result"
    },
    {
     "data": {
      "image/png": "[encoded data removed]",
      "text/plain": [
       "<Figure size 432x288 with 1 Axes>"
      ]
     },
     "metadata": {},
     "output_type": "display_data"
    }
   ],
   "source": [
    "maior50K['Sex'].value_counts().plot(kind='pie')\n",
    "plt.legend()"
   ]
  },
  {
   "cell_type": "markdown",
   "metadata": {
    "papermill": {
     "duration": 0.067064,
     "end_time": "2020-09-16T04:06:46.285656",
     "exception": false,
     "start_time": "2020-09-16T04:06:46.218592",
     "status": "completed"
    },
    "tags": []
   },
   "source": [
    "Mesmo com proporcionalmente um maior número de homens na população estudada, a desigualdade de gênero é evidente nos dados, pois há uma quantia pequena de mulheres com renda anual maior que 50 mil dólares."
   ]
  },
  {
   "cell_type": "code",
   "execution_count": 24,
   "metadata": {
    "execution": {
     "iopub.execute_input": "2020-09-16T04:06:46.486177Z",
     "iopub.status.busy": "2020-09-16T04:06:46.484953Z",
     "iopub.status.idle": "2020-09-16T04:06:46.733233Z",
     "shell.execute_reply": "2020-09-16T04:06:46.732392Z"
    },
    "papermill": {
     "duration": 0.331003,
     "end_time": "2020-09-16T04:06:46.733379",
     "exception": false,
     "start_time": "2020-09-16T04:06:46.402376",
     "status": "completed"
    },
    "tags": []
   },
   "outputs": [
    {
     "data": {
      "text/plain": [
       "Text(0.5, 0, 'Horas semanais trabalhadas')"
      ]
     },
     "execution_count": 24,
     "metadata": {},
     "output_type": "execute_result"
    },
    {
     "data": {
      "image/png": "[encoded data removed]",
      "text/plain": [
       "<Figure size 432x288 with 1 Axes>"
      ]
     },
     "metadata": {
      "needs_background": "light"
     },
     "output_type": "display_data"
    }
   ],
   "source": [
    "male = adult_train[adult_train['Sex'] == 'Male']\n",
    "female = adult_train[adult_train['Sex'] == 'Female']\n",
    "\n",
    "male['Hours per week'].hist(color = 'blue', alpha = 0.7, grid = False, label = 'Male')\n",
    "female['Hours per week'].hist(color = 'cyan', alpha = 0.5, grid = False, label = 'Female')\n",
    "\n",
    "plt.legend()\n",
    "plt.xlabel('Horas semanais trabalhadas')"
   ]
  },
  {
   "cell_type": "code",
   "execution_count": 25,
   "metadata": {
    "execution": {
     "iopub.execute_input": "2020-09-16T04:06:46.896867Z",
     "iopub.status.busy": "2020-09-16T04:06:46.895631Z",
     "iopub.status.idle": "2020-09-16T04:06:47.157880Z",
     "shell.execute_reply": "2020-09-16T04:06:47.158456Z"
    },
    "papermill": {
     "duration": 0.349163,
     "end_time": "2020-09-16T04:06:47.158685",
     "exception": false,
     "start_time": "2020-09-16T04:06:46.809522",
     "status": "completed"
    },
    "tags": []
   },
   "outputs": [
    {
     "data": {
      "text/plain": [
       "Text(0.5, 0, 'Horas semanais trabalhadas')"
      ]
     },
     "execution_count": 25,
     "metadata": {},
     "output_type": "execute_result"
    },
    {
     "data": {
      "image/png": "[encoded data removed]",
      "text/plain": [
       "<Figure size 432x288 with 1 Axes>"
      ]
     },
     "metadata": {
      "needs_background": "light"
     },
     "output_type": "display_data"
    }
   ],
   "source": [
    "menor50K = adult_train[adult_train['Target'] == '<=50K']\n",
    "maior50K = adult_train[adult_train['Target'] == '>50K']\n",
    "\n",
    "menor50K['Hours per week'].hist(color = 'red', alpha = 0.7, grid = False, label = '<=50K')\n",
    "maior50K['Hours per week'].hist(color = 'green', alpha = 0.7, grid = False, label = '>50K')\n",
    "\n",
    "plt.legend()\n",
    "plt.xlabel('Horas semanais trabalhadas')"
   ]
  },
  {
   "cell_type": "markdown",
   "metadata": {
    "papermill": {
     "duration": 0.071843,
     "end_time": "2020-09-16T04:06:47.302531",
     "exception": false,
     "start_time": "2020-09-16T04:06:47.230688",
     "status": "completed"
    },
    "tags": []
   },
   "source": [
    "A partir destes dados, conclui-se que, nessa população, os homens tendem a trabalhar mais horas do que as mulheres, além disso, pessoas com maior renda anual também tendem a trabalhar mais horas por semana. "
   ]
  },
  {
   "cell_type": "markdown",
   "metadata": {
    "papermill": {
     "duration": 0.069845,
     "end_time": "2020-09-16T04:06:47.442670",
     "exception": false,
     "start_time": "2020-09-16T04:06:47.372825",
     "status": "completed"
    },
    "tags": []
   },
   "source": [
    "* **Capital Gain e Capital Loss:**"
   ]
  },
  {
   "cell_type": "code",
   "execution_count": 26,
   "metadata": {
    "execution": {
     "iopub.execute_input": "2020-09-16T04:06:47.598281Z",
     "iopub.status.busy": "2020-09-16T04:06:47.597454Z",
     "iopub.status.idle": "2020-09-16T04:06:47.872439Z",
     "shell.execute_reply": "2020-09-16T04:06:47.871681Z"
    },
    "papermill": {
     "duration": 0.35968,
     "end_time": "2020-09-16T04:06:47.872590",
     "exception": false,
     "start_time": "2020-09-16T04:06:47.512910",
     "status": "completed"
    },
    "tags": []
   },
   "outputs": [
    {
     "data": {
      "text/plain": [
       "Text(0.5, 0, 'Ganho de capital')"
      ]
     },
     "execution_count": 26,
     "metadata": {},
     "output_type": "execute_result"
    },
    {
     "data": {
      "image/png": "[encoded data removed]",
      "text/plain": [
       "<Figure size 432x288 with 1 Axes>"
      ]
     },
     "metadata": {
      "needs_background": "light"
     },
     "output_type": "display_data"
    }
   ],
   "source": [
    "menor50K = adult_train[adult_train['Target'] == '<=50K']\n",
    "maior50K = adult_train[adult_train['Target'] == '>50K']\n",
    "\n",
    "menor50K['Capital Gain'].hist(color = 'red', alpha = 0.7, grid = False, label = '<=50K')\n",
    "maior50K['Capital Gain'].hist(color = 'green', alpha = 0.7, grid = False, label = '>50K')\n",
    "\n",
    "plt.legend()\n",
    "plt.xlabel('Ganho de capital')"
   ]
  },
  {
   "cell_type": "code",
   "execution_count": 27,
   "metadata": {
    "execution": {
     "iopub.execute_input": "2020-09-16T04:06:48.033167Z",
     "iopub.status.busy": "2020-09-16T04:06:48.032338Z",
     "iopub.status.idle": "2020-09-16T04:06:48.289384Z",
     "shell.execute_reply": "2020-09-16T04:06:48.288166Z"
    },
    "papermill": {
     "duration": 0.343364,
     "end_time": "2020-09-16T04:06:48.289580",
     "exception": false,
     "start_time": "2020-09-16T04:06:47.946216",
     "status": "completed"
    },
    "tags": []
   },
   "outputs": [
    {
     "data": {
      "text/plain": [
       "Text(0.5, 0, 'Perda de capital')"
      ]
     },
     "execution_count": 27,
     "metadata": {},
     "output_type": "execute_result"
    },
    {
     "data": {
      "image/png": "[encoded data removed]",
      "text/plain": [
       "<Figure size 432x288 with 1 Axes>"
      ]
     },
     "metadata": {
      "needs_background": "light"
     },
     "output_type": "display_data"
    }
   ],
   "source": [
    "menor50K = adult_train[adult_train['Target'] == '<=50K']\n",
    "maior50K = adult_train[adult_train['Target'] == '>50K']\n",
    "\n",
    "menor50K['Capital Loss'].hist(color = 'red', alpha = 0.7, grid = False, label = '<=50K')\n",
    "maior50K['Capital Loss'].hist(color = 'green', alpha = 0.7, grid = False, label = '>50K')\n",
    "\n",
    "plt.legend()\n",
    "plt.xlabel('Perda de capital')"
   ]
  },
  {
   "cell_type": "markdown",
   "metadata": {
    "papermill": {
     "duration": 0.075682,
     "end_time": "2020-09-16T04:06:48.442047",
     "exception": false,
     "start_time": "2020-09-16T04:06:48.366365",
     "status": "completed"
    },
    "tags": []
   },
   "source": [
    "É muito interessante notar o fato de que a maioria, na populção estudada, dos quais ganha menos do que 50 mil dólares anuais não possuem alto ganho ou perda de capital, tais valores mais expressivos relacionam-se com aqueles com renda anual maior."
   ]
  },
  {
   "cell_type": "markdown",
   "metadata": {
    "papermill": {
     "duration": 0.073069,
     "end_time": "2020-09-16T04:06:48.593374",
     "exception": false,
     "start_time": "2020-09-16T04:06:48.520305",
     "status": "completed"
    },
    "tags": []
   },
   "source": [
    "* **Country:**"
   ]
  },
  {
   "cell_type": "code",
   "execution_count": 28,
   "metadata": {
    "execution": {
     "iopub.execute_input": "2020-09-16T04:06:48.761294Z",
     "iopub.status.busy": "2020-09-16T04:06:48.760314Z",
     "iopub.status.idle": "2020-09-16T04:06:48.765557Z",
     "shell.execute_reply": "2020-09-16T04:06:48.764864Z"
    },
    "papermill": {
     "duration": 0.098692,
     "end_time": "2020-09-16T04:06:48.765702",
     "exception": false,
     "start_time": "2020-09-16T04:06:48.667010",
     "status": "completed"
    },
    "tags": []
   },
   "outputs": [
    {
     "data": {
      "text/plain": [
       "United-States                 29169\n",
       "Mexico                          643\n",
       "Philippines                     198\n",
       "Germany                         137\n",
       "Canada                          121\n",
       "Puerto-Rico                     114\n",
       "El-Salvador                     106\n",
       "India                           100\n",
       "Cuba                             95\n",
       "England                          90\n",
       "Jamaica                          81\n",
       "South                            80\n",
       "China                            75\n",
       "Italy                            73\n",
       "Dominican-Republic               70\n",
       "Vietnam                          67\n",
       "Guatemala                        64\n",
       "Japan                            62\n",
       "Poland                           60\n",
       "Columbia                         59\n",
       "Taiwan                           51\n",
       "Haiti                            44\n",
       "Iran                             43\n",
       "Portugal                         37\n",
       "Nicaragua                        34\n",
       "Peru                             31\n",
       "France                           29\n",
       "Greece                           29\n",
       "Ecuador                          28\n",
       "Ireland                          24\n",
       "Hong                             20\n",
       "Trinadad&Tobago                  19\n",
       "Cambodia                         19\n",
       "Thailand                         18\n",
       "Laos                             18\n",
       "Yugoslavia                       16\n",
       "Outlying-US(Guam-USVI-etc)       14\n",
       "Hungary                          13\n",
       "Honduras                         13\n",
       "Scotland                         12\n",
       "Holand-Netherlands                1\n",
       "Name: Country, dtype: int64"
      ]
     },
     "execution_count": 28,
     "metadata": {},
     "output_type": "execute_result"
    }
   ],
   "source": [
    "adult_train['Country'].value_counts()"
   ]
  },
  {
   "cell_type": "markdown",
   "metadata": {
    "papermill": {
     "duration": 0.076912,
     "end_time": "2020-09-16T04:06:48.920743",
     "exception": false,
     "start_time": "2020-09-16T04:06:48.843831",
     "status": "completed"
    },
    "tags": []
   },
   "source": [
    "Há uma grande concentração de estadunidenses na população estudada, constituindo 89,6% da totalidade. Por isso, o rótulo Country será desconsiderado."
   ]
  },
  {
   "cell_type": "markdown",
   "metadata": {
    "papermill": {
     "duration": 0.076821,
     "end_time": "2020-09-16T04:06:49.079608",
     "exception": false,
     "start_time": "2020-09-16T04:06:49.002787",
     "status": "completed"
    },
    "tags": []
   },
   "source": [
    "Após a análise dos dados, conclui-se que os rótulos: Workclass, fnlwgt, Education, Occupation, relationship e Country não são suficientemente relevantes para a classificação e por isso serão desconsiderados. "
   ]
  },
  {
   "cell_type": "markdown",
   "metadata": {
    "papermill": {
     "duration": 0.075141,
     "end_time": "2020-09-16T04:06:49.234185",
     "exception": false,
     "start_time": "2020-09-16T04:06:49.159044",
     "status": "completed"
    },
    "tags": []
   },
   "source": [
    "# 3. **Classificador K-NN**\n",
    "\n"
   ]
  },
  {
   "cell_type": "markdown",
   "metadata": {
    "papermill": {
     "duration": 0.073588,
     "end_time": "2020-09-16T04:06:49.381906",
     "exception": false,
     "start_time": "2020-09-16T04:06:49.308318",
     "status": "completed"
    },
    "tags": []
   },
   "source": [
    "Nesta etapa, ira se fazer o tratamento final dos dados e a implantação do classificador K-NN.\n",
    "\n",
    "* **Tratamento dos Dados:**\n",
    "\n",
    "Removem-se as colunas com os dados, cujos rótulos decidiu-se desconsiderar."
   ]
  },
  {
   "cell_type": "code",
   "execution_count": 29,
   "metadata": {
    "execution": {
     "iopub.execute_input": "2020-09-16T04:06:49.541068Z",
     "iopub.status.busy": "2020-09-16T04:06:49.540271Z",
     "iopub.status.idle": "2020-09-16T04:06:49.555802Z",
     "shell.execute_reply": "2020-09-16T04:06:49.556425Z"
    },
    "papermill": {
     "duration": 0.101114,
     "end_time": "2020-09-16T04:06:49.556612",
     "exception": false,
     "start_time": "2020-09-16T04:06:49.455498",
     "status": "completed"
    },
    "tags": []
   },
   "outputs": [
    {
     "data": {
      "text/html": [
       "<div>\n",
       "<style scoped>\n",
       "    .dataframe tbody tr th:only-of-type {\n",
       "        vertical-align: middle;\n",
       "    }\n",
       "\n",
       "    .dataframe tbody tr th {\n",
       "        vertical-align: top;\n",
       "    }\n",
       "\n",
       "    .dataframe thead th {\n",
       "        text-align: right;\n",
       "    }\n",
       "</style>\n",
       "<table border=\"1\" class=\"dataframe\">\n",
       "  <thead>\n",
       "    <tr style=\"text-align: right;\">\n",
       "      <th></th>\n",
       "      <th>Age</th>\n",
       "      <th>education-num</th>\n",
       "      <th>Martial Status</th>\n",
       "      <th>Race</th>\n",
       "      <th>Sex</th>\n",
       "      <th>Capital Gain</th>\n",
       "      <th>Capital Loss</th>\n",
       "      <th>Hours per week</th>\n",
       "    </tr>\n",
       "  </thead>\n",
       "  <tbody>\n",
       "    <tr>\n",
       "      <th>0</th>\n",
       "      <td>34</td>\n",
       "      <td>10</td>\n",
       "      <td>Divorced</td>\n",
       "      <td>White</td>\n",
       "      <td>Male</td>\n",
       "      <td>0</td>\n",
       "      <td>0</td>\n",
       "      <td>44</td>\n",
       "    </tr>\n",
       "    <tr>\n",
       "      <th>1</th>\n",
       "      <td>58</td>\n",
       "      <td>6</td>\n",
       "      <td>Married-civ-spouse</td>\n",
       "      <td>White</td>\n",
       "      <td>Male</td>\n",
       "      <td>0</td>\n",
       "      <td>0</td>\n",
       "      <td>40</td>\n",
       "    </tr>\n",
       "    <tr>\n",
       "      <th>2</th>\n",
       "      <td>25</td>\n",
       "      <td>10</td>\n",
       "      <td>Never-married</td>\n",
       "      <td>White</td>\n",
       "      <td>Male</td>\n",
       "      <td>0</td>\n",
       "      <td>0</td>\n",
       "      <td>42</td>\n",
       "    </tr>\n",
       "    <tr>\n",
       "      <th>3</th>\n",
       "      <td>24</td>\n",
       "      <td>10</td>\n",
       "      <td>Divorced</td>\n",
       "      <td>White</td>\n",
       "      <td>Female</td>\n",
       "      <td>0</td>\n",
       "      <td>0</td>\n",
       "      <td>40</td>\n",
       "    </tr>\n",
       "    <tr>\n",
       "      <th>4</th>\n",
       "      <td>57</td>\n",
       "      <td>9</td>\n",
       "      <td>Married-civ-spouse</td>\n",
       "      <td>White</td>\n",
       "      <td>Male</td>\n",
       "      <td>5178</td>\n",
       "      <td>0</td>\n",
       "      <td>60</td>\n",
       "    </tr>\n",
       "  </tbody>\n",
       "</table>\n",
       "</div>"
      ],
      "text/plain": [
       "   Age  education-num      Martial Status   Race     Sex  Capital Gain  \\\n",
       "0   34             10            Divorced  White    Male             0   \n",
       "1   58              6  Married-civ-spouse  White    Male             0   \n",
       "2   25             10       Never-married  White    Male             0   \n",
       "3   24             10            Divorced  White  Female             0   \n",
       "4   57              9  Married-civ-spouse  White    Male          5178   \n",
       "\n",
       "   Capital Loss  Hours per week  \n",
       "0             0              44  \n",
       "1             0              40  \n",
       "2             0              42  \n",
       "3             0              40  \n",
       "4             0              60  "
      ]
     },
     "execution_count": 29,
     "metadata": {},
     "output_type": "execute_result"
    }
   ],
   "source": [
    "Adult_train_final = Nadult_train[['Age', 'education-num', 'Martial Status', 'Race', 'Sex', 'Capital Gain', 'Capital Loss', 'Hours per week']]\n",
    "Adult_test_final= adult_test[['Age', 'education-num', 'Martial Status', 'Race', 'Sex', 'Capital Gain', 'Capital Loss', 'Hours per week']]\n",
    "Adult_train_final.head()\n"
   ]
  },
  {
   "cell_type": "markdown",
   "metadata": {
    "papermill": {
     "duration": 0.075592,
     "end_time": "2020-09-16T04:06:49.707228",
     "exception": false,
     "start_time": "2020-09-16T04:06:49.631636",
     "status": "completed"
    },
    "tags": []
   },
   "source": [
    "Abaixo, convertem-se os dados não numéricos: Martial Status, Race e Sex em numéricos."
   ]
  },
  {
   "cell_type": "code",
   "execution_count": 30,
   "metadata": {
    "execution": {
     "iopub.execute_input": "2020-09-16T04:06:49.862733Z",
     "iopub.status.busy": "2020-09-16T04:06:49.861934Z",
     "iopub.status.idle": "2020-09-16T04:06:49.939445Z",
     "shell.execute_reply": "2020-09-16T04:06:49.938807Z"
    },
    "papermill": {
     "duration": 0.158565,
     "end_time": "2020-09-16T04:06:49.939597",
     "exception": false,
     "start_time": "2020-09-16T04:06:49.781032",
     "status": "completed"
    },
    "tags": []
   },
   "outputs": [],
   "source": [
    "numAdult_train_final = Adult_train_final.apply(preprocessing.LabelEncoder().fit_transform)\n",
    "numAdult_test_final = Adult_test_final.apply(preprocessing.LabelEncoder().fit_transform)\n",
    "\n",
    "X = numAdult_train_final\n",
    "Y = Nadult_train['Target']\n",
    "X_test = numAdult_test_final"
   ]
  },
  {
   "cell_type": "markdown",
   "metadata": {
    "papermill": {
     "duration": 0.074764,
     "end_time": "2020-09-16T04:06:50.090146",
     "exception": false,
     "start_time": "2020-09-16T04:06:50.015382",
     "status": "completed"
    },
    "tags": []
   },
   "source": [
    "* **Definição do K com maior acurácia:**"
   ]
  },
  {
   "cell_type": "code",
   "execution_count": 31,
   "metadata": {
    "execution": {
     "iopub.execute_input": "2020-09-16T04:06:50.280566Z",
     "iopub.status.busy": "2020-09-16T04:06:50.248919Z",
     "iopub.status.idle": "2020-09-16T04:11:52.110845Z",
     "shell.execute_reply": "2020-09-16T04:11:52.109822Z"
    },
    "papermill": {
     "duration": 301.946866,
     "end_time": "2020-09-16T04:11:52.111246",
     "exception": false,
     "start_time": "2020-09-16T04:06:50.164380",
     "status": "completed"
    },
    "tags": []
   },
   "outputs": [
    {
     "name": "stdout",
     "output_type": "stream",
     "text": [
      "k =  10  ;  Acurácia:  0.8345878109809226\n",
      "\n",
      "\n",
      "k =  11  ;  Acurácia:  0.8348199394413092\n",
      "\n",
      "\n",
      "k =  12  ;  Acurácia:  0.8357151319358295\n",
      "\n",
      "\n",
      "k =  13  ;  Acurácia:  0.8358145245026195\n",
      "\n",
      "\n",
      "k =  14  ;  Acurácia:  0.8380028424251961\n",
      "\n",
      "\n",
      "k =  15  ;  Acurácia:  0.8365108769141092\n",
      "\n",
      "\n",
      "k =  16  ;  Acurácia:  0.8373396684921606\n",
      "\n",
      "\n",
      "k =  17  ;  Acurácia:  0.8362456029449389\n",
      "\n",
      "\n",
      "k =  18  ;  Acurácia:  0.8373064790238164\n",
      "\n",
      "\n",
      "k =  19  ;  Acurácia:  0.8372402099860297\n",
      "\n",
      "\n",
      "k =  20  ;  Acurácia:  0.8369416146698331\n",
      "\n",
      "\n",
      "k =  21  ;  Acurácia:  0.835814480543059\n",
      "\n",
      "\n",
      "k =  22  ;  Acurácia:  0.8382348060372301\n",
      "\n",
      "\n",
      "k =  23  ;  Acurácia:  0.8380358560552976\n",
      "\n",
      "\n",
      "k =  24  ;  Acurácia:  0.837206943588454\n",
      "\n",
      "\n",
      "k =  25  ;  Acurácia:  0.8382679735257941\n",
      "\n",
      "\n",
      "k =  26  ;  Acurácia:  0.8374722505272949\n",
      "\n",
      "\n",
      "k =  27  ;  Acurácia:  0.8373396355224901\n",
      "\n",
      "\n",
      "k =  28  ;  Acurácia:  0.8380690565135321\n",
      "\n",
      "\n",
      "k =  29  ;  Acurácia:  0.8366764835692349\n",
      "\n",
      "\n",
      "k =  30  ;  Acurácia:  0.8381685260095532\n",
      "\n",
      "\n",
      "k =  31  ;  Acurácia:  0.8376380769802243\n",
      "\n",
      "\n",
      "k =  32  ;  Acurácia:  0.837339690471941\n",
      "\n",
      "\n",
      "k =  33  ;  Acurácia:  0.8371739079785725\n",
      "\n",
      "\n",
      "k =  34  ;  Acurácia:  0.8366434149896825\n",
      "\n",
      "\n",
      "O k com maior acurácia é:  25\n",
      "Melhor acurácia:  0.8382679735257941\n"
     ]
    }
   ],
   "source": [
    "BestK = 15\n",
    "BestAcuraccy = 0.0\n",
    "\n",
    "for k in range(10, 35):\n",
    "    acuracia = cross_val_score(KNeighborsClassifier(n_neighbors=k), X, Y, cv=10, scoring=\"accuracy\").mean()\n",
    "    print('k = ', k, ' ;  Acurácia: ', acuracia)\n",
    "    print('\\n')\n",
    "    if acuracia > BestAcuraccy:\n",
    "        BestAcuraccy = acuracia\n",
    "        BestK = k\n",
    "        \n",
    "print('O k com maior acurácia é: ', BestK)\n",
    "print('Melhor acurácia: ', BestAcuraccy)"
   ]
  },
  {
   "cell_type": "markdown",
   "metadata": {
    "papermill": {
     "duration": 0.084771,
     "end_time": "2020-09-16T04:11:52.280669",
     "exception": false,
     "start_time": "2020-09-16T04:11:52.195898",
     "status": "completed"
    },
    "tags": []
   },
   "source": [
    "* **Predição**\n",
    "\n",
    "Por fim, o classificador K-NN é construído para prever a coluna 'Target', a partir dos dados de treino e com a utilização de K = 25."
   ]
  },
  {
   "cell_type": "code",
   "execution_count": 32,
   "metadata": {
    "execution": {
     "iopub.execute_input": "2020-09-16T04:11:52.486846Z",
     "iopub.status.busy": "2020-09-16T04:11:52.486053Z",
     "iopub.status.idle": "2020-09-16T04:11:53.634761Z",
     "shell.execute_reply": "2020-09-16T04:11:53.633933Z"
    },
    "papermill": {
     "duration": 1.269414,
     "end_time": "2020-09-16T04:11:53.634903",
     "exception": false,
     "start_time": "2020-09-16T04:11:52.365489",
     "status": "completed"
    },
    "tags": []
   },
   "outputs": [
    {
     "data": {
      "text/plain": [
       "KNeighborsClassifier(n_neighbors=25)"
      ]
     },
     "execution_count": 32,
     "metadata": {},
     "output_type": "execute_result"
    }
   ],
   "source": [
    "cknn = KNeighborsClassifier(n_neighbors=25)\n",
    "cknn.fit(X, Y)"
   ]
  },
  {
   "cell_type": "code",
   "execution_count": 33,
   "metadata": {
    "execution": {
     "iopub.execute_input": "2020-09-16T04:11:53.821161Z",
     "iopub.status.busy": "2020-09-16T04:11:53.820345Z",
     "iopub.status.idle": "2020-09-16T04:11:55.709138Z",
     "shell.execute_reply": "2020-09-16T04:11:55.708537Z"
    },
    "papermill": {
     "duration": 1.984842,
     "end_time": "2020-09-16T04:11:55.709270",
     "exception": false,
     "start_time": "2020-09-16T04:11:53.724428",
     "status": "completed"
    },
    "tags": []
   },
   "outputs": [
    {
     "data": {
      "text/plain": [
       "array(['<=50K', '<=50K', '<=50K', ..., '<=50K', '<=50K', '>50K'],\n",
       "      dtype=object)"
      ]
     },
     "execution_count": 33,
     "metadata": {},
     "output_type": "execute_result"
    }
   ],
   "source": [
    "prediction = cknn.predict(X_test)\n",
    "prediction"
   ]
  },
  {
   "cell_type": "markdown",
   "metadata": {
    "papermill": {
     "duration": 0.087652,
     "end_time": "2020-09-16T04:11:55.883011",
     "exception": false,
     "start_time": "2020-09-16T04:11:55.795359",
     "status": "completed"
    },
    "tags": []
   },
   "source": [
    "Então formatamos os resultados para csv:"
   ]
  },
  {
   "cell_type": "code",
   "execution_count": 34,
   "metadata": {
    "execution": {
     "iopub.execute_input": "2020-09-16T04:11:56.070789Z",
     "iopub.status.busy": "2020-09-16T04:11:56.069721Z",
     "iopub.status.idle": "2020-09-16T04:11:56.074522Z",
     "shell.execute_reply": "2020-09-16T04:11:56.075094Z"
    },
    "papermill": {
     "duration": 0.105144,
     "end_time": "2020-09-16T04:11:56.075285",
     "exception": false,
     "start_time": "2020-09-16T04:11:55.970141",
     "status": "completed"
    },
    "tags": []
   },
   "outputs": [
    {
     "data": {
      "text/html": [
       "<div>\n",
       "<style scoped>\n",
       "    .dataframe tbody tr th:only-of-type {\n",
       "        vertical-align: middle;\n",
       "    }\n",
       "\n",
       "    .dataframe tbody tr th {\n",
       "        vertical-align: top;\n",
       "    }\n",
       "\n",
       "    .dataframe thead th {\n",
       "        text-align: right;\n",
       "    }\n",
       "</style>\n",
       "<table border=\"1\" class=\"dataframe\">\n",
       "  <thead>\n",
       "    <tr style=\"text-align: right;\">\n",
       "      <th></th>\n",
       "      <th>Income</th>\n",
       "    </tr>\n",
       "  </thead>\n",
       "  <tbody>\n",
       "    <tr>\n",
       "      <th>0</th>\n",
       "      <td>&lt;=50K</td>\n",
       "    </tr>\n",
       "    <tr>\n",
       "      <th>1</th>\n",
       "      <td>&lt;=50K</td>\n",
       "    </tr>\n",
       "    <tr>\n",
       "      <th>2</th>\n",
       "      <td>&lt;=50K</td>\n",
       "    </tr>\n",
       "    <tr>\n",
       "      <th>3</th>\n",
       "      <td>&lt;=50K</td>\n",
       "    </tr>\n",
       "    <tr>\n",
       "      <th>4</th>\n",
       "      <td>&gt;50K</td>\n",
       "    </tr>\n",
       "  </tbody>\n",
       "</table>\n",
       "</div>"
      ],
      "text/plain": [
       "  Income\n",
       "0  <=50K\n",
       "1  <=50K\n",
       "2  <=50K\n",
       "3  <=50K\n",
       "4   >50K"
      ]
     },
     "execution_count": 34,
     "metadata": {},
     "output_type": "execute_result"
    }
   ],
   "source": [
    "submission = pd.DataFrame(prediction, columns=['Income'])\n",
    "submission.head()"
   ]
  },
  {
   "cell_type": "code",
   "execution_count": 35,
   "metadata": {
    "execution": {
     "iopub.execute_input": "2020-09-16T04:11:56.258551Z",
     "iopub.status.busy": "2020-09-16T04:11:56.257623Z",
     "iopub.status.idle": "2020-09-16T04:11:56.262591Z",
     "shell.execute_reply": "2020-09-16T04:11:56.261982Z"
    },
    "papermill": {
     "duration": 0.098814,
     "end_time": "2020-09-16T04:11:56.262724",
     "exception": false,
     "start_time": "2020-09-16T04:11:56.163910",
     "status": "completed"
    },
    "tags": []
   },
   "outputs": [
    {
     "data": {
      "text/plain": [
       "(16280, 1)"
      ]
     },
     "execution_count": 35,
     "metadata": {},
     "output_type": "execute_result"
    }
   ],
   "source": [
    "submission.shape"
   ]
  },
  {
   "cell_type": "code",
   "execution_count": 36,
   "metadata": {
    "execution": {
     "iopub.execute_input": "2020-09-16T04:11:56.444587Z",
     "iopub.status.busy": "2020-09-16T04:11:56.443774Z",
     "iopub.status.idle": "2020-09-16T04:11:56.493563Z",
     "shell.execute_reply": "2020-09-16T04:11:56.492726Z"
    },
    "papermill": {
     "duration": 0.143606,
     "end_time": "2020-09-16T04:11:56.493711",
     "exception": false,
     "start_time": "2020-09-16T04:11:56.350105",
     "status": "completed"
    },
    "tags": []
   },
   "outputs": [],
   "source": [
    "submission.to_csv('submission.csv', index_label = 'Id')\n"
   ]
  }
 ],
 "metadata": {
  "kernelspec": {
   "display_name": "Python 3",
   "language": "python",
   "name": "python3"
  },
  "language_info": {
   "codemirror_mode": {
    "name": "ipython",
    "version": 3
   },
   "file_extension": ".py",
   "mimetype": "text/x-python",
   "name": "python",
   "nbconvert_exporter": "python",
   "pygments_lexer": "ipython3",
   "version": "3.7.6"
  },
  "papermill": {
   "duration": 326.049616,
   "end_time": "2020-09-16T04:11:56.692484",
   "environment_variables": {},
   "exception": null,
   "input_path": "__notebook__.ipynb",
   "output_path": "__notebook__.ipynb",
   "parameters": {},
   "start_time": "2020-09-16T04:06:30.642868",
   "version": "2.1.0"
  }
 },
 "nbformat": 4,
 "nbformat_minor": 4
}
