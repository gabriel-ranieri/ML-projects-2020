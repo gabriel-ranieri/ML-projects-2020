{
 "cells": [
  {
   "cell_type": "markdown",
   "metadata": {
    "papermill": {
     "duration": 0.071601,
     "end_time": "2020-11-24T18:23:21.993622",
     "exception": false,
     "start_time": "2020-11-24T18:23:21.922021",
     "status": "completed"
    },
    "tags": []
   },
   "source": [
    "# **PMR3508(2020) - APRENDIZADO DE MÁQUINA E RECONHECIMENTO DE PADRÕES**\n",
    "Aplicação de redes neurais para a análise de sentimento em textos;\n",
    "\n",
    "Autor: Gabriel Ranieri Vaz de Lima\n",
    "\n",
    "# 1. Preparação dos dados (*Data Prep*)\n",
    "\n",
    "* Importações de Bibliotecas"
   ]
  },
  {
   "cell_type": "code",
   "execution_count": 1,
   "metadata": {
    "execution": {
     "iopub.execute_input": "2020-11-24T18:23:22.139858Z",
     "iopub.status.busy": "2020-11-24T18:23:22.139374Z",
     "iopub.status.idle": "2020-11-24T18:23:41.024335Z",
     "shell.execute_reply": "2020-11-24T18:23:41.023799Z"
    },
    "papermill": {
     "duration": 18.960553,
     "end_time": "2020-11-24T18:23:41.024417",
     "exception": false,
     "start_time": "2020-11-24T18:23:22.063864",
     "status": "completed"
    },
    "tags": []
   },
   "outputs": [
    {
     "name": "stdout",
     "output_type": "stream",
     "text": [
      "Requirement already satisfied: gensim in /opt/conda/lib/python3.7/site-packages (3.8.3)\r\n",
      "Requirement already satisfied: numpy>=1.11.3 in /opt/conda/lib/python3.7/site-packages (from gensim) (1.18.5)\r\n",
      "Requirement already satisfied: six>=1.5.0 in /opt/conda/lib/python3.7/site-packages (from gensim) (1.14.0)\r\n",
      "Requirement already satisfied: scipy>=0.18.1 in /opt/conda/lib/python3.7/site-packages (from gensim) (1.4.1)\r\n",
      "Requirement already satisfied: smart-open>=1.8.1 in /opt/conda/lib/python3.7/site-packages (from gensim) (3.0.0)\r\n",
      "Requirement already satisfied: requests in /opt/conda/lib/python3.7/site-packages (from smart-open>=1.8.1->gensim) (2.23.0)\r\n",
      "Requirement already satisfied: chardet<4,>=3.0.2 in /opt/conda/lib/python3.7/site-packages (from requests->smart-open>=1.8.1->gensim) (3.0.4)\r\n",
      "Requirement already satisfied: idna<3,>=2.5 in /opt/conda/lib/python3.7/site-packages (from requests->smart-open>=1.8.1->gensim) (2.9)\r\n",
      "Requirement already satisfied: certifi>=2017.4.17 in /opt/conda/lib/python3.7/site-packages (from requests->smart-open>=1.8.1->gensim) (2020.11.8)\r\n",
      "Requirement already satisfied: urllib3!=1.25.0,!=1.25.1,<1.26,>=1.21.1 in /opt/conda/lib/python3.7/site-packages (from requests->smart-open>=1.8.1->gensim) (1.25.9)\r\n",
      "Collecting ftfy\r\n",
      "  Downloading ftfy-5.8.tar.gz (64 kB)\r\n",
      "\u001b[K     |████████████████████████████████| 64 kB 513 kB/s \r\n",
      "\u001b[?25hRequirement already satisfied: wcwidth in /opt/conda/lib/python3.7/site-packages (from ftfy) (0.1.9)\r\n",
      "Building wheels for collected packages: ftfy\r\n",
      "  Building wheel for ftfy (setup.py) ... \u001b[?25l-\b \b\\\b \bdone\r\n",
      "\u001b[?25h  Created wheel for ftfy: filename=ftfy-5.8-py3-none-any.whl size=45612 sha256=efe0f418f4ca45bd316bde3dbe98d3a469893b9853cfd5df6c8f4a93cd11bcfb\r\n",
      "  Stored in directory: /root/.cache/pip/wheels/49/1c/fc/8b19700f939810cd8fd9495ae34934b246279791288eda1c31\r\n",
      "Successfully built ftfy\r\n",
      "Installing collected packages: ftfy\r\n",
      "Successfully installed ftfy-5.8\r\n"
     ]
    }
   ],
   "source": [
    "!pip install gensim\n",
    "!pip install ftfy"
   ]
  },
  {
   "cell_type": "code",
   "execution_count": 2,
   "metadata": {
    "execution": {
     "iopub.execute_input": "2020-11-24T18:23:41.113396Z",
     "iopub.status.busy": "2020-11-24T18:23:41.112961Z",
     "iopub.status.idle": "2020-11-24T18:23:47.792649Z",
     "shell.execute_reply": "2020-11-24T18:23:47.792108Z"
    },
    "papermill": {
     "duration": 6.73047,
     "end_time": "2020-11-24T18:23:47.792731",
     "exception": false,
     "start_time": "2020-11-24T18:23:41.062261",
     "status": "completed"
    },
    "tags": []
   },
   "outputs": [],
   "source": [
    "#Para o uso geral\n",
    "import random\n",
    "import numpy as np\n",
    "import pandas as pd\n",
    "import copy \n",
    "import time\n",
    "from tqdm import tqdm as tqdm\n",
    "from scipy.stats import uniform\n",
    "import matplotlib.pyplot as plt\n",
    "import seaborn as sns\n",
    "import requests\n",
    "import io\n",
    "\n",
    "#Para o processamento de textos\n",
    "from ftfy import fix_text\n",
    "import string\n",
    "import re\n",
    "from gensim.test.utils import common_texts\n",
    "from gensim.models.doc2vec import Doc2Vec, TaggedDocument\n",
    "\n",
    "#Para Machine Learning e MLP\n",
    "from sklearn.linear_model import LogisticRegression\n",
    "from sklearn.neural_network import MLPClassifier\n",
    "from sklearn.model_selection import GridSearchCV\n",
    "from sklearn.model_selection import RandomizedSearchCV\n",
    "from sklearn.model_selection import train_test_split\n",
    "from sklearn.metrics import roc_auc_score\n",
    "\n",
    "#Importando funcionalidades do Tensorflow\n",
    "import tensorflow as tf\n",
    "from tensorflow.keras import Sequential, regularizers\n",
    "from tensorflow.keras.layers import Dense\n",
    "from tensorflow.python.framework import ops\n",
    "from tensorflow.keras.callbacks import EarlyStopping"
   ]
  },
  {
   "cell_type": "markdown",
   "metadata": {
    "papermill": {
     "duration": 0.046409,
     "end_time": "2020-11-24T18:23:47.876420",
     "exception": false,
     "start_time": "2020-11-24T18:23:47.830011",
     "status": "completed"
    },
    "tags": []
   },
   "source": [
    "* Importação de Dados"
   ]
  },
  {
   "cell_type": "code",
   "execution_count": 3,
   "metadata": {
    "execution": {
     "iopub.execute_input": "2020-11-24T18:23:47.990687Z",
     "iopub.status.busy": "2020-11-24T18:23:47.990014Z",
     "iopub.status.idle": "2020-11-24T18:23:49.964945Z",
     "shell.execute_reply": "2020-11-24T18:23:49.965480Z"
    },
    "papermill": {
     "duration": 2.036749,
     "end_time": "2020-11-24T18:23:49.965615",
     "exception": false,
     "start_time": "2020-11-24T18:23:47.928866",
     "status": "completed"
    },
    "tags": []
   },
   "outputs": [
    {
     "data": {
      "text/html": [
       "<div>\n",
       "<style scoped>\n",
       "    .dataframe tbody tr th:only-of-type {\n",
       "        vertical-align: middle;\n",
       "    }\n",
       "\n",
       "    .dataframe tbody tr th {\n",
       "        vertical-align: top;\n",
       "    }\n",
       "\n",
       "    .dataframe thead th {\n",
       "        text-align: right;\n",
       "    }\n",
       "</style>\n",
       "<table border=\"1\" class=\"dataframe\">\n",
       "  <thead>\n",
       "    <tr style=\"text-align: right;\">\n",
       "      <th></th>\n",
       "      <th>review</th>\n",
       "      <th>positive</th>\n",
       "    </tr>\n",
       "  </thead>\n",
       "  <tbody>\n",
       "    <tr>\n",
       "      <th>0</th>\n",
       "      <td>Bromwell High is a cartoon comedy. It ran at t...</td>\n",
       "      <td>1</td>\n",
       "    </tr>\n",
       "    <tr>\n",
       "      <th>1</th>\n",
       "      <td>Homelessness (or Houselessness as George Carli...</td>\n",
       "      <td>1</td>\n",
       "    </tr>\n",
       "    <tr>\n",
       "      <th>2</th>\n",
       "      <td>Brilliant over-acting by Lesley Ann Warren. Be...</td>\n",
       "      <td>1</td>\n",
       "    </tr>\n",
       "    <tr>\n",
       "      <th>3</th>\n",
       "      <td>This is easily the most underrated film inn th...</td>\n",
       "      <td>1</td>\n",
       "    </tr>\n",
       "    <tr>\n",
       "      <th>4</th>\n",
       "      <td>This is not the typical Mel Brooks film. It wa...</td>\n",
       "      <td>1</td>\n",
       "    </tr>\n",
       "  </tbody>\n",
       "</table>\n",
       "</div>"
      ],
      "text/plain": [
       "                                              review  positive\n",
       "0  Bromwell High is a cartoon comedy. It ran at t...         1\n",
       "1  Homelessness (or Houselessness as George Carli...         1\n",
       "2  Brilliant over-acting by Lesley Ann Warren. Be...         1\n",
       "3  This is easily the most underrated film inn th...         1\n",
       "4  This is not the typical Mel Brooks film. It wa...         1"
      ]
     },
     "execution_count": 3,
     "metadata": {},
     "output_type": "execute_result"
    }
   ],
   "source": [
    "data_train = pd.read_csv(\"../input/sentiment-analysis-pmr3508/data_train.csv\") #Dados de Treino\n",
    "\n",
    "data_test1 = pd.read_csv(\"../input/sentiment-analysis-pmr3508/data_test1.csv\") #Dados de Teste para a comparação dos classificadores\n",
    "\n",
    "data_test2 = pd.read_csv(\"../input/sentiment-analysis-pmr3508/data_test2_X.csv\") #Dados de Teste para a submissão das probabilidades\n",
    "\n",
    "data_train.head()"
   ]
  },
  {
   "cell_type": "markdown",
   "metadata": {
    "papermill": {
     "duration": 0.054161,
     "end_time": "2020-11-24T18:23:50.073627",
     "exception": false,
     "start_time": "2020-11-24T18:23:50.019466",
     "status": "completed"
    },
    "tags": []
   },
   "source": [
    "* Preparção Geral dos Dados"
   ]
  },
  {
   "cell_type": "code",
   "execution_count": 4,
   "metadata": {
    "execution": {
     "iopub.execute_input": "2020-11-24T18:23:50.187301Z",
     "iopub.status.busy": "2020-11-24T18:23:50.186769Z",
     "iopub.status.idle": "2020-11-24T18:23:50.190463Z",
     "shell.execute_reply": "2020-11-24T18:23:50.189913Z"
    },
    "papermill": {
     "duration": 0.063598,
     "end_time": "2020-11-24T18:23:50.190575",
     "exception": false,
     "start_time": "2020-11-24T18:23:50.126977",
     "status": "completed"
    },
    "tags": []
   },
   "outputs": [
    {
     "name": "stdout",
     "output_type": "stream",
     "text": [
      "Formato do DataFrame:  (24984, 2)\n"
     ]
    }
   ],
   "source": [
    "print('Formato do DataFrame: ', data_train.shape)"
   ]
  },
  {
   "cell_type": "code",
   "execution_count": 5,
   "metadata": {
    "execution": {
     "iopub.execute_input": "2020-11-24T18:23:50.297362Z",
     "iopub.status.busy": "2020-11-24T18:23:50.296761Z",
     "iopub.status.idle": "2020-11-24T18:23:50.301769Z",
     "shell.execute_reply": "2020-11-24T18:23:50.301357Z"
    },
    "papermill": {
     "duration": 0.067342,
     "end_time": "2020-11-24T18:23:50.301848",
     "exception": false,
     "start_time": "2020-11-24T18:23:50.234506",
     "status": "completed"
    },
    "tags": []
   },
   "outputs": [
    {
     "name": "stdout",
     "output_type": "stream",
     "text": [
      "<class 'pandas.core.frame.DataFrame'>\n",
      "RangeIndex: 24984 entries, 0 to 24983\n",
      "Data columns (total 2 columns):\n",
      " #   Column    Non-Null Count  Dtype \n",
      "---  ------    --------------  ----- \n",
      " 0   review    24984 non-null  object\n",
      " 1   positive  24984 non-null  int64 \n",
      "dtypes: int64(1), object(1)\n",
      "memory usage: 390.5+ KB\n"
     ]
    }
   ],
   "source": [
    "data_train.info()"
   ]
  },
  {
   "cell_type": "markdown",
   "metadata": {
    "papermill": {
     "duration": 0.046353,
     "end_time": "2020-11-24T18:23:50.399544",
     "exception": false,
     "start_time": "2020-11-24T18:23:50.353191",
     "status": "completed"
    },
    "tags": []
   },
   "source": [
    "A partir do Formato do Dataframe e de suas informações, verifica-se que inexistem dados faltantes."
   ]
  },
  {
   "cell_type": "code",
   "execution_count": 6,
   "metadata": {
    "execution": {
     "iopub.execute_input": "2020-11-24T18:23:50.517220Z",
     "iopub.status.busy": "2020-11-24T18:23:50.504303Z",
     "iopub.status.idle": "2020-11-24T18:23:50.619883Z",
     "shell.execute_reply": "2020-11-24T18:23:50.619378Z"
    },
    "papermill": {
     "duration": 0.172775,
     "end_time": "2020-11-24T18:23:50.619995",
     "exception": false,
     "start_time": "2020-11-24T18:23:50.447220",
     "status": "completed"
    },
    "tags": []
   },
   "outputs": [
    {
     "data": {
      "text/plain": [
       "False    24888\n",
       "True        96\n",
       "dtype: int64"
      ]
     },
     "execution_count": 6,
     "metadata": {},
     "output_type": "execute_result"
    }
   ],
   "source": [
    "#Número de duplicatas (True)\n",
    "duplicated_data = data_train.duplicated()\n",
    "duplicated_data.value_counts()"
   ]
  },
  {
   "cell_type": "code",
   "execution_count": 7,
   "metadata": {
    "execution": {
     "iopub.execute_input": "2020-11-24T18:23:50.745917Z",
     "iopub.status.busy": "2020-11-24T18:23:50.745092Z",
     "iopub.status.idle": "2020-11-24T18:23:50.865793Z",
     "shell.execute_reply": "2020-11-24T18:23:50.864730Z"
    },
    "papermill": {
     "duration": 0.191198,
     "end_time": "2020-11-24T18:23:50.865936",
     "exception": false,
     "start_time": "2020-11-24T18:23:50.674738",
     "status": "completed"
    },
    "tags": []
   },
   "outputs": [
    {
     "data": {
      "text/html": [
       "<div>\n",
       "<style scoped>\n",
       "    .dataframe tbody tr th:only-of-type {\n",
       "        vertical-align: middle;\n",
       "    }\n",
       "\n",
       "    .dataframe tbody tr th {\n",
       "        vertical-align: top;\n",
       "    }\n",
       "\n",
       "    .dataframe thead th {\n",
       "        text-align: right;\n",
       "    }\n",
       "</style>\n",
       "<table border=\"1\" class=\"dataframe\">\n",
       "  <thead>\n",
       "    <tr style=\"text-align: right;\">\n",
       "      <th></th>\n",
       "      <th>review</th>\n",
       "      <th>positive</th>\n",
       "    </tr>\n",
       "  </thead>\n",
       "  <tbody>\n",
       "    <tr>\n",
       "      <th>194</th>\n",
       "      <td>Though structured totally different from the b...</td>\n",
       "      <td>1</td>\n",
       "    </tr>\n",
       "    <tr>\n",
       "      <th>197</th>\n",
       "      <td>Though structured totally different from the b...</td>\n",
       "      <td>1</td>\n",
       "    </tr>\n",
       "    <tr>\n",
       "      <th>1629</th>\n",
       "      <td>Everyone knows about this ''Zero Day'' event. ...</td>\n",
       "      <td>1</td>\n",
       "    </tr>\n",
       "    <tr>\n",
       "      <th>1631</th>\n",
       "      <td>Everyone knows about this ''Zero Day'' event. ...</td>\n",
       "      <td>1</td>\n",
       "    </tr>\n",
       "    <tr>\n",
       "      <th>2132</th>\n",
       "      <td>One of Disney's best films that I can enjoy wa...</td>\n",
       "      <td>1</td>\n",
       "    </tr>\n",
       "  </tbody>\n",
       "</table>\n",
       "</div>"
      ],
      "text/plain": [
       "                                                 review  positive\n",
       "194   Though structured totally different from the b...         1\n",
       "197   Though structured totally different from the b...         1\n",
       "1629  Everyone knows about this ''Zero Day'' event. ...         1\n",
       "1631  Everyone knows about this ''Zero Day'' event. ...         1\n",
       "2132  One of Disney's best films that I can enjoy wa...         1"
      ]
     },
     "execution_count": 7,
     "metadata": {},
     "output_type": "execute_result"
    }
   ],
   "source": [
    "#Exemplos de dados duplicados\n",
    "duplicated_data = data_train.duplicated(keep = False)\n",
    "data_train.loc[duplicated_data == True].head() "
   ]
  },
  {
   "cell_type": "markdown",
   "metadata": {
    "papermill": {
     "duration": 0.064531,
     "end_time": "2020-11-24T18:23:50.989288",
     "exception": false,
     "start_time": "2020-11-24T18:23:50.924757",
     "status": "completed"
    },
    "tags": []
   },
   "source": [
    "Encontaram-se 96 duplicatas de dados. Estes textos serão desconsiderados, pois provavelmente são fruto de erros de coleta."
   ]
  },
  {
   "cell_type": "code",
   "execution_count": 8,
   "metadata": {
    "execution": {
     "iopub.execute_input": "2020-11-24T18:23:51.108625Z",
     "iopub.status.busy": "2020-11-24T18:23:51.107938Z",
     "iopub.status.idle": "2020-11-24T18:23:51.213567Z",
     "shell.execute_reply": "2020-11-24T18:23:51.212681Z"
    },
    "papermill": {
     "duration": 0.169051,
     "end_time": "2020-11-24T18:23:51.213704",
     "exception": false,
     "start_time": "2020-11-24T18:23:51.044653",
     "status": "completed"
    },
    "tags": []
   },
   "outputs": [
    {
     "name": "stdout",
     "output_type": "stream",
     "text": [
      "<class 'pandas.core.frame.DataFrame'>\n",
      "Int64Index: 24888 entries, 0 to 24983\n",
      "Data columns (total 2 columns):\n",
      " #   Column    Non-Null Count  Dtype \n",
      "---  ------    --------------  ----- \n",
      " 0   review    24888 non-null  object\n",
      " 1   positive  24888 non-null  int64 \n",
      "dtypes: int64(1), object(1)\n",
      "memory usage: 583.3+ KB\n"
     ]
    }
   ],
   "source": [
    "#Retirando as linhas duplicadas\n",
    "data_train= data_train.drop_duplicates(keep= 'last') \n",
    "data_train.info()"
   ]
  },
  {
   "cell_type": "markdown",
   "metadata": {
    "papermill": {
     "duration": 0.084188,
     "end_time": "2020-11-24T18:23:51.380819",
     "exception": false,
     "start_time": "2020-11-24T18:23:51.296631",
     "status": "completed"
    },
    "tags": []
   },
   "source": [
    "* Limpeza e Padronização dos textos"
   ]
  },
  {
   "cell_type": "code",
   "execution_count": 9,
   "metadata": {
    "execution": {
     "iopub.execute_input": "2020-11-24T18:23:51.553384Z",
     "iopub.status.busy": "2020-11-24T18:23:51.552455Z",
     "iopub.status.idle": "2020-11-24T18:23:51.559333Z",
     "shell.execute_reply": "2020-11-24T18:23:51.558780Z"
    },
    "papermill": {
     "duration": 0.095932,
     "end_time": "2020-11-24T18:23:51.559439",
     "exception": false,
     "start_time": "2020-11-24T18:23:51.463507",
     "status": "completed"
    },
    "tags": []
   },
   "outputs": [
    {
     "data": {
      "text/plain": [
       "1    12461\n",
       "0    12427\n",
       "Name: positive, dtype: int64"
      ]
     },
     "execution_count": 9,
     "metadata": {},
     "output_type": "execute_result"
    }
   ],
   "source": [
    "#Distribuição de positive\n",
    "data_train['positive'].value_counts() "
   ]
  },
  {
   "cell_type": "code",
   "execution_count": 10,
   "metadata": {
    "execution": {
     "iopub.execute_input": "2020-11-24T18:23:51.686435Z",
     "iopub.status.busy": "2020-11-24T18:23:51.685962Z",
     "iopub.status.idle": "2020-11-24T18:23:51.689882Z",
     "shell.execute_reply": "2020-11-24T18:23:51.689359Z"
    },
    "papermill": {
     "duration": 0.07425,
     "end_time": "2020-11-24T18:23:51.689995",
     "exception": false,
     "start_time": "2020-11-24T18:23:51.615745",
     "status": "completed"
    },
    "tags": []
   },
   "outputs": [],
   "source": [
    "#Criação das listas X_train e Y_train contendo reviews e a classificação positive, respectivamente.\n",
    "\n",
    "X_train = data_train['review'].tolist()\n",
    "Y_train = data_train['positive'].tolist()"
   ]
  },
  {
   "cell_type": "code",
   "execution_count": 11,
   "metadata": {
    "execution": {
     "iopub.execute_input": "2020-11-24T18:23:51.809314Z",
     "iopub.status.busy": "2020-11-24T18:23:51.808338Z",
     "iopub.status.idle": "2020-11-24T18:23:51.812244Z",
     "shell.execute_reply": "2020-11-24T18:23:51.812924Z"
    },
    "papermill": {
     "duration": 0.066443,
     "end_time": "2020-11-24T18:23:51.813082",
     "exception": false,
     "start_time": "2020-11-24T18:23:51.746639",
     "status": "completed"
    },
    "tags": []
   },
   "outputs": [
    {
     "data": {
      "text/plain": [
       "'When I first read Armistead Maupins story I was taken in by the human drama displayed by Gabriel No one and those he cares about and loves. That being said, we have now been given the film version of an excellent story and are expected to see past the gloss of Hollywood...<br /><br />Writer Armistead Maupin and director Patrick Stettner have truly succeeded! <br /><br />With just the right amount of restraint Robin Williams captures the fragile essence of Gabriel and lets us see his struggle with issues of trust both in his personnel life(Jess) and the world around him(Donna).<br /><br />As we are introduced to the players in this drama we are reminded that nothing is ever as it seems and that the smallest event can change our lives irrevocably. The request to review a book written by a young man turns into a life changing event that helps Gabriel find the strength within himself to carry on and move forward.<br /><br />It\\'s to bad that most people will avoid this film. I only say that because the average American will probably think \"Robin Williams in a serious role? That didn\\'t work before!\" PLEASE GIVE THIS MOVIE A CHANCE! Robin Williams touches the darkness we all must find and go through in ourselves to be better people. Like his movie One Hour Photo he has stepped up as an actor and made another quality piece of art.<br /><br />Oh and before I forget, I believe Bobby Cannavale as Jess steals every scene he is in. He has the 1940\\'s leading man looks and screen presence. It\\'s this hacks opinion he could carry his own movie right now!!<br /><br />S~'"
      ]
     },
     "execution_count": 11,
     "metadata": {},
     "output_type": "execute_result"
    }
   ],
   "source": [
    "X_train[10] #Uma das reviews"
   ]
  },
  {
   "cell_type": "markdown",
   "metadata": {
    "papermill": {
     "duration": 0.086142,
     "end_time": "2020-11-24T18:23:51.985533",
     "exception": false,
     "start_time": "2020-11-24T18:23:51.899391",
     "status": "completed"
    },
    "tags": []
   },
   "source": [
    "Ao se observar o texto acima, percebe-se a importância da realização de limpeza e padronização de todos os textos antes de tranformá-los em vetores de representação."
   ]
  },
  {
   "cell_type": "code",
   "execution_count": 12,
   "metadata": {
    "execution": {
     "iopub.execute_input": "2020-11-24T18:23:52.164435Z",
     "iopub.status.busy": "2020-11-24T18:23:52.163658Z",
     "iopub.status.idle": "2020-11-24T18:23:52.167583Z",
     "shell.execute_reply": "2020-11-24T18:23:52.167158Z"
    },
    "papermill": {
     "duration": 0.095412,
     "end_time": "2020-11-24T18:23:52.167672",
     "exception": false,
     "start_time": "2020-11-24T18:23:52.072260",
     "status": "completed"
    },
    "tags": []
   },
   "outputs": [],
   "source": [
    "#Defini-se a função para a limpeza do texto\n",
    "def clean(text):\n",
    "    txt=text.replace(\"<br />\",\" \") #retirando tags\n",
    "    txt=fix_text(txt) #consertando Mojibakes (Ver https://pypi.org/project/ftfy/)\n",
    "    txt=txt.lower() #passando tudo para minúsculo\n",
    "    txt=txt.translate(str.maketrans('', '', string.punctuation)) #retirando toda pontuação\n",
    "    txt=txt.replace(\" — \", \" \") #retirando hífens\n",
    "    txt=re.sub(\"\\d+\", ' <number> ', txt) #colocando um token especial para os números\n",
    "    txt=re.sub(' +', ' ', txt) #deletando espaços extras\n",
    "    return txt"
   ]
  },
  {
   "cell_type": "code",
   "execution_count": 13,
   "metadata": {
    "execution": {
     "iopub.execute_input": "2020-11-24T18:23:52.273766Z",
     "iopub.status.busy": "2020-11-24T18:23:52.263198Z",
     "iopub.status.idle": "2020-11-24T18:24:37.781096Z",
     "shell.execute_reply": "2020-11-24T18:24:37.780616Z"
    },
    "papermill": {
     "duration": 45.572949,
     "end_time": "2020-11-24T18:24:37.781203",
     "exception": false,
     "start_time": "2020-11-24T18:23:52.208254",
     "status": "completed"
    },
    "tags": []
   },
   "outputs": [],
   "source": [
    "#Limpeza e padronização das reviews\n",
    "X_train = [clean(x) for x in X_train]"
   ]
  },
  {
   "cell_type": "code",
   "execution_count": 14,
   "metadata": {
    "execution": {
     "iopub.execute_input": "2020-11-24T18:24:37.871283Z",
     "iopub.status.busy": "2020-11-24T18:24:37.870714Z",
     "iopub.status.idle": "2020-11-24T18:24:37.876188Z",
     "shell.execute_reply": "2020-11-24T18:24:37.875576Z"
    },
    "papermill": {
     "duration": 0.053683,
     "end_time": "2020-11-24T18:24:37.876307",
     "exception": false,
     "start_time": "2020-11-24T18:24:37.822624",
     "status": "completed"
    },
    "tags": []
   },
   "outputs": [
    {
     "data": {
      "text/plain": [
       "'when i first read armistead maupins story i was taken in by the human drama displayed by gabriel no one and those he cares about and loves that being said we have now been given the film version of an excellent story and are expected to see past the gloss of hollywood writer armistead maupin and director patrick stettner have truly succeeded with just the right amount of restraint robin williams captures the fragile essence of gabriel and lets us see his struggle with issues of trust both in his personnel lifejess and the world around himdonna as we are introduced to the players in this drama we are reminded that nothing is ever as it seems and that the smallest event can change our lives irrevocably the request to review a book written by a young man turns into a life changing event that helps gabriel find the strength within himself to carry on and move forward its to bad that most people will avoid this film i only say that because the average american will probably think robin williams in a serious role that didnt work before please give this movie a chance robin williams touches the darkness we all must find and go through in ourselves to be better people like his movie one hour photo he has stepped up as an actor and made another quality piece of art oh and before i forget i believe bobby cannavale as jess steals every scene he is in he has the <number> s leading man looks and screen presence its this hacks opinion he could carry his own movie right now s'"
      ]
     },
     "execution_count": 14,
     "metadata": {},
     "output_type": "execute_result"
    }
   ],
   "source": [
    "X_train[10]"
   ]
  },
  {
   "cell_type": "markdown",
   "metadata": {
    "papermill": {
     "duration": 0.05641,
     "end_time": "2020-11-24T18:24:37.989843",
     "exception": false,
     "start_time": "2020-11-24T18:24:37.933433",
     "status": "completed"
    },
    "tags": []
   },
   "source": [
    "O texto acima foi padronizado e está pronto para ser convertido em um vetor de representação."
   ]
  },
  {
   "cell_type": "code",
   "execution_count": 15,
   "metadata": {
    "execution": {
     "iopub.execute_input": "2020-11-24T18:24:38.130896Z",
     "iopub.status.busy": "2020-11-24T18:24:38.119061Z",
     "iopub.status.idle": "2020-11-24T18:24:39.011901Z",
     "shell.execute_reply": "2020-11-24T18:24:39.011442Z"
    },
    "papermill": {
     "duration": 0.965556,
     "end_time": "2020-11-24T18:24:39.011981",
     "exception": false,
     "start_time": "2020-11-24T18:24:38.046425",
     "status": "completed"
    },
    "tags": []
   },
   "outputs": [],
   "source": [
    "X_train = [x.split() for x in X_train] #Tokenização das reviews"
   ]
  },
  {
   "cell_type": "markdown",
   "metadata": {
    "papermill": {
     "duration": 0.044355,
     "end_time": "2020-11-24T18:24:39.098139",
     "exception": false,
     "start_time": "2020-11-24T18:24:39.053784",
     "status": "completed"
    },
    "tags": []
   },
   "source": [
    "# 2. Utilização de Doc2Vec nos textos\n",
    "Neste segmento, utiliza-se um modelo já pré-treinado de Doc2Vec para se obter representaçõess vetoriais de cada texto. Toma-se como referência o notebook *analise_de_sentimentos.ipynb*."
   ]
  },
  {
   "cell_type": "code",
   "execution_count": 16,
   "metadata": {
    "execution": {
     "iopub.execute_input": "2020-11-24T18:24:39.220121Z",
     "iopub.status.busy": "2020-11-24T18:24:39.219321Z",
     "iopub.status.idle": "2020-11-24T18:24:41.328031Z",
     "shell.execute_reply": "2020-11-24T18:24:41.327373Z"
    },
    "papermill": {
     "duration": 2.171917,
     "end_time": "2020-11-24T18:24:41.328158",
     "exception": false,
     "start_time": "2020-11-24T18:24:39.156241",
     "status": "completed"
    },
    "tags": []
   },
   "outputs": [],
   "source": [
    "d2v = Doc2Vec.load('../input/sentiment-analysis-pmr3508/doc2vec') "
   ]
  },
  {
   "cell_type": "markdown",
   "metadata": {
    "papermill": {
     "duration": 0.058121,
     "end_time": "2020-11-24T18:24:41.444747",
     "exception": false,
     "start_time": "2020-11-24T18:24:41.386626",
     "status": "completed"
    },
    "tags": []
   },
   "source": [
    "Abaixo, define-se a função que gera as representações vetoriais, a partir dos textos padronizados, pela utilização do modelo pré-treinado de Doc2Vec."
   ]
  },
  {
   "cell_type": "code",
   "execution_count": 17,
   "metadata": {
    "execution": {
     "iopub.execute_input": "2020-11-24T18:24:41.567561Z",
     "iopub.status.busy": "2020-11-24T18:24:41.566929Z",
     "iopub.status.idle": "2020-11-24T18:24:41.570005Z",
     "shell.execute_reply": "2020-11-24T18:24:41.569410Z"
    },
    "papermill": {
     "duration": 0.066972,
     "end_time": "2020-11-24T18:24:41.570105",
     "exception": false,
     "start_time": "2020-11-24T18:24:41.503133",
     "status": "completed"
    },
    "tags": []
   },
   "outputs": [],
   "source": [
    "def emb(txt, model, normalize=False): \n",
    "    model.random.seed(42)\n",
    "    x=model.infer_vector(txt, steps=20)\n",
    "    \n",
    "    if normalize: return(x/np.sqrt(x@x))\n",
    "    else: return(x)"
   ]
  },
  {
   "cell_type": "code",
   "execution_count": 18,
   "metadata": {
    "execution": {
     "iopub.execute_input": "2020-11-24T18:24:41.692757Z",
     "iopub.status.busy": "2020-11-24T18:24:41.692061Z",
     "iopub.status.idle": "2020-11-24T18:29:29.220718Z",
     "shell.execute_reply": "2020-11-24T18:29:29.220128Z"
    },
    "papermill": {
     "duration": 287.592671,
     "end_time": "2020-11-24T18:29:29.220824",
     "exception": false,
     "start_time": "2020-11-24T18:24:41.628153",
     "status": "completed"
    },
    "tags": []
   },
   "outputs": [],
   "source": [
    "#Aplicação da função nas reviews\n",
    "X_train = [emb(x, d2v) for x in X_train] \n",
    "X_train = np.array(X_train)"
   ]
  },
  {
   "cell_type": "code",
   "execution_count": 19,
   "metadata": {
    "execution": {
     "iopub.execute_input": "2020-11-24T18:29:29.342646Z",
     "iopub.status.busy": "2020-11-24T18:29:29.341835Z",
     "iopub.status.idle": "2020-11-24T18:29:29.347391Z",
     "shell.execute_reply": "2020-11-24T18:29:29.346562Z"
    },
    "papermill": {
     "duration": 0.068202,
     "end_time": "2020-11-24T18:29:29.347512",
     "exception": false,
     "start_time": "2020-11-24T18:29:29.279310",
     "status": "completed"
    },
    "tags": []
   },
   "outputs": [
    {
     "data": {
      "text/plain": [
       "(24888, 50)"
      ]
     },
     "execution_count": 19,
     "metadata": {},
     "output_type": "execute_result"
    }
   ],
   "source": [
    "X_train.shape #Formato do Array"
   ]
  },
  {
   "cell_type": "code",
   "execution_count": 20,
   "metadata": {
    "execution": {
     "iopub.execute_input": "2020-11-24T18:29:29.527766Z",
     "iopub.status.busy": "2020-11-24T18:29:29.527065Z",
     "iopub.status.idle": "2020-11-24T18:29:29.532908Z",
     "shell.execute_reply": "2020-11-24T18:29:29.532059Z"
    },
    "papermill": {
     "duration": 0.098285,
     "end_time": "2020-11-24T18:29:29.533031",
     "exception": false,
     "start_time": "2020-11-24T18:29:29.434746",
     "status": "completed"
    },
    "tags": []
   },
   "outputs": [
    {
     "data": {
      "text/plain": [
       "array([-1.035692  , -0.60179144, -0.2627422 ,  0.10552399, -0.44455606,\n",
       "        0.14752208, -0.6457975 , -0.1008198 ,  0.12255809, -0.8152826 ,\n",
       "       -1.4546576 , -1.1043218 ,  0.13409172, -0.36594978, -0.44487834,\n",
       "        0.8713211 ,  0.7220229 ,  0.86481625, -0.40354726, -0.45300376,\n",
       "        1.0102469 ,  0.8546184 ,  0.05695517, -0.97015107,  0.6258848 ,\n",
       "        0.5913712 ,  1.4019544 , -0.07450695, -1.3825638 , -0.31807527,\n",
       "       -0.949131  , -0.18412402, -0.49575144, -0.22880085, -0.4390179 ,\n",
       "       -0.43560728, -0.16359967, -0.56014234, -0.36046463, -0.7693279 ,\n",
       "        0.09823471,  0.13543949, -0.7366606 ,  0.4950106 ,  0.4884849 ,\n",
       "       -0.9777481 ,  0.81989026, -0.43340996, -0.2008631 , -0.25061116],\n",
       "      dtype=float32)"
      ]
     },
     "execution_count": 20,
     "metadata": {},
     "output_type": "execute_result"
    }
   ],
   "source": [
    "X_train[10]"
   ]
  },
  {
   "cell_type": "markdown",
   "metadata": {
    "papermill": {
     "duration": 0.087171,
     "end_time": "2020-11-24T18:29:29.708159",
     "exception": false,
     "start_time": "2020-11-24T18:29:29.620988",
     "status": "completed"
    },
    "tags": []
   },
   "source": [
    "Acima, observa-se a representação vetorial do texto utilizado como exemplo anteriormente."
   ]
  },
  {
   "cell_type": "markdown",
   "metadata": {
    "papermill": {
     "duration": 0.087608,
     "end_time": "2020-11-24T18:29:29.884274",
     "exception": false,
     "start_time": "2020-11-24T18:29:29.796666",
     "status": "completed"
    },
    "tags": []
   },
   "source": [
    "# 3. Treinamento de Redes Neurais pela implementação de Scikit-Learn\n",
    "Neste segmento, faz-se o treinamento de duas redes neurai: a primeira com apenas uma camada oculta e a segunda com 2. Com esse objetivo, implemeta-se o Multi-layer Perceptron Classifier de Scikit-learn."
   ]
  },
  {
   "cell_type": "markdown",
   "metadata": {
    "papermill": {
     "duration": 0.087511,
     "end_time": "2020-11-24T18:29:30.059888",
     "exception": false,
     "start_time": "2020-11-24T18:29:29.972377",
     "status": "completed"
    },
    "tags": []
   },
   "source": [
    "* Uma camada oculta (MLP1)"
   ]
  },
  {
   "cell_type": "code",
   "execution_count": 21,
   "metadata": {
    "execution": {
     "iopub.execute_input": "2020-11-24T18:29:30.246528Z",
     "iopub.status.busy": "2020-11-24T18:29:30.244641Z",
     "iopub.status.idle": "2020-11-24T19:05:13.358703Z",
     "shell.execute_reply": "2020-11-24T19:05:13.359487Z"
    },
    "papermill": {
     "duration": 2143.211542,
     "end_time": "2020-11-24T19:05:13.359684",
     "exception": false,
     "start_time": "2020-11-24T18:29:30.148142",
     "status": "completed"
    },
    "tags": []
   },
   "outputs": [
    {
     "name": "stdout",
     "output_type": "stream",
     "text": [
      "Fitting 5 folds for each of 427 candidates, totalling 2135 fits\n"
     ]
    },
    {
     "name": "stderr",
     "output_type": "stream",
     "text": [
      "[Parallel(n_jobs=-1)]: Using backend LokyBackend with 4 concurrent workers.\n",
      "[Parallel(n_jobs=-1)]: Done  42 tasks      | elapsed:   32.1s\n",
      "[Parallel(n_jobs=-1)]: Done 192 tasks      | elapsed:  2.8min\n",
      "[Parallel(n_jobs=-1)]: Done 442 tasks      | elapsed:  6.9min\n",
      "[Parallel(n_jobs=-1)]: Done 792 tasks      | elapsed: 12.7min\n",
      "[Parallel(n_jobs=-1)]: Done 1242 tasks      | elapsed: 20.5min\n",
      "[Parallel(n_jobs=-1)]: Done 1792 tasks      | elapsed: 29.5min\n",
      "[Parallel(n_jobs=-1)]: Done 2135 out of 2135 | elapsed: 35.7min finished\n"
     ]
    },
    {
     "data": {
      "text/plain": [
       "GridSearchCV(cv=5, estimator=MLPClassifier(early_stopping=True), n_jobs=-1,\n",
       "             param_grid={'activation': ['relu'],\n",
       "                         'alpha': [0, 1e-15, 1e-10, 1e-05, 0.001, 0.01, 0.1],\n",
       "                         'hidden_layer_sizes': [0, 3, 6, 9, 12, 15, 18, 21, 24,\n",
       "                                                27, 30, 33, 36, 39, 42, 45, 48,\n",
       "                                                51, 54, 57, 60, 63, 66, 69, 72,\n",
       "                                                75, 78, 81, 84, 87, ...],\n",
       "                         'learning_rate': ['constant'], 'solver': ['adam']},\n",
       "             scoring='roc_auc', verbose=1)"
      ]
     },
     "execution_count": 21,
     "metadata": {},
     "output_type": "execute_result"
    }
   ],
   "source": [
    "mlp = MLPClassifier(early_stopping = True) # Multi-layer Perceptron Classifier\n",
    "\n",
    "params = {'hidden_layer_sizes': [n for n in range(0, 181, 3)], #Quantidade de neurônios na camada oculta\n",
    "         'activation': ['relu'], #A função de ativação: Rectified Linear Unit (ReLu)\n",
    "         'solver': ['adam'], #O otimizador dos pesos\n",
    "         'alpha': [0, 1e-15, 1e-10, 1e-5, 1e-3, 1e-2, 1e-1], #Termo de regularização\n",
    "         'learning_rate': ['constant']} #Taxa de Aprendizagem para atualizações de pesos\n",
    "\n",
    "clf = GridSearchCV(mlp, params, n_jobs = -1, verbose = 1, cv=5, scoring = 'roc_auc') #Maximização dos Parâmetros\n",
    "clf.fit(X_train, Y_train)"
   ]
  },
  {
   "cell_type": "code",
   "execution_count": 22,
   "metadata": {
    "execution": {
     "iopub.execute_input": "2020-11-24T19:05:13.495115Z",
     "iopub.status.busy": "2020-11-24T19:05:13.494361Z",
     "iopub.status.idle": "2020-11-24T19:05:13.498495Z",
     "shell.execute_reply": "2020-11-24T19:05:13.497938Z"
    },
    "papermill": {
     "duration": 0.072842,
     "end_time": "2020-11-24T19:05:13.498607",
     "exception": false,
     "start_time": "2020-11-24T19:05:13.425765",
     "status": "completed"
    },
    "tags": []
   },
   "outputs": [
    {
     "data": {
      "text/plain": [
       "{'activation': 'relu',\n",
       " 'alpha': 0.01,\n",
       " 'hidden_layer_sizes': 180,\n",
       " 'learning_rate': 'constant',\n",
       " 'solver': 'adam'}"
      ]
     },
     "execution_count": 22,
     "metadata": {},
     "output_type": "execute_result"
    }
   ],
   "source": [
    "clf.best_params_"
   ]
  },
  {
   "cell_type": "code",
   "execution_count": 23,
   "metadata": {
    "execution": {
     "iopub.execute_input": "2020-11-24T19:05:13.630273Z",
     "iopub.status.busy": "2020-11-24T19:05:13.629152Z",
     "iopub.status.idle": "2020-11-24T19:05:13.632956Z",
     "shell.execute_reply": "2020-11-24T19:05:13.633698Z"
    },
    "papermill": {
     "duration": 0.072337,
     "end_time": "2020-11-24T19:05:13.633858",
     "exception": false,
     "start_time": "2020-11-24T19:05:13.561521",
     "status": "completed"
    },
    "tags": []
   },
   "outputs": [
    {
     "name": "stdout",
     "output_type": "stream",
     "text": [
      "Os melhores parâmetros são:  ['relu', 0.01, 180, 'constant', 'adam']\n"
     ]
    }
   ],
   "source": [
    "#Cria uma lista com os melhores parâmetros encontrados\n",
    "\n",
    "best_params = clf.best_params_\n",
    "\n",
    "mlp1_best_params = list(best_params.values())\n",
    "\n",
    "print('Os melhores parâmetros são: ', mlp1_best_params)"
   ]
  },
  {
   "cell_type": "code",
   "execution_count": 24,
   "metadata": {
    "execution": {
     "iopub.execute_input": "2020-11-24T19:05:13.831533Z",
     "iopub.status.busy": "2020-11-24T19:05:13.830802Z",
     "iopub.status.idle": "2020-11-24T19:05:13.836162Z",
     "shell.execute_reply": "2020-11-24T19:05:13.835641Z"
    },
    "papermill": {
     "duration": 0.10619,
     "end_time": "2020-11-24T19:05:13.836297",
     "exception": false,
     "start_time": "2020-11-24T19:05:13.730107",
     "status": "completed"
    },
    "tags": []
   },
   "outputs": [
    {
     "data": {
      "text/plain": [
       "0.89108604324061"
      ]
     },
     "execution_count": 24,
     "metadata": {},
     "output_type": "execute_result"
    }
   ],
   "source": [
    "clf.best_score_ #Maior valor de AUC encontrado"
   ]
  },
  {
   "cell_type": "markdown",
   "metadata": {
    "papermill": {
     "duration": 0.06425,
     "end_time": "2020-11-24T19:05:13.965031",
     "exception": false,
     "start_time": "2020-11-24T19:05:13.900781",
     "status": "completed"
    },
    "tags": []
   },
   "source": [
    "* Duas camadas ocultas (MLP2)"
   ]
  },
  {
   "cell_type": "code",
   "execution_count": 25,
   "metadata": {
    "execution": {
     "iopub.execute_input": "2020-11-24T19:05:14.109351Z",
     "iopub.status.busy": "2020-11-24T19:05:14.101989Z",
     "iopub.status.idle": "2020-11-24T22:28:46.141472Z",
     "shell.execute_reply": "2020-11-24T22:28:46.140892Z"
    },
    "papermill": {
     "duration": 12212.112909,
     "end_time": "2020-11-24T22:28:46.141587",
     "exception": false,
     "start_time": "2020-11-24T19:05:14.028678",
     "status": "completed"
    },
    "tags": []
   },
   "outputs": [
    {
     "name": "stdout",
     "output_type": "stream",
     "text": [
      "Fitting 5 folds for each of 2100 candidates, totalling 10500 fits\n"
     ]
    },
    {
     "name": "stderr",
     "output_type": "stream",
     "text": [
      "[Parallel(n_jobs=-1)]: Using backend LokyBackend with 4 concurrent workers.\n",
      "[Parallel(n_jobs=-1)]: Done  54 tasks      | elapsed:   27.0s\n",
      "[Parallel(n_jobs=-1)]: Done 204 tasks      | elapsed:  2.6min\n",
      "[Parallel(n_jobs=-1)]: Done 454 tasks      | elapsed:  6.7min\n",
      "[Parallel(n_jobs=-1)]: Done 804 tasks      | elapsed: 13.3min\n",
      "[Parallel(n_jobs=-1)]: Done 1254 tasks      | elapsed: 23.1min\n",
      "[Parallel(n_jobs=-1)]: Done 1804 tasks      | elapsed: 32.9min\n",
      "[Parallel(n_jobs=-1)]: Done 2454 tasks      | elapsed: 45.2min\n",
      "[Parallel(n_jobs=-1)]: Done 3204 tasks      | elapsed: 60.2min\n",
      "[Parallel(n_jobs=-1)]: Done 4054 tasks      | elapsed: 76.0min\n",
      "[Parallel(n_jobs=-1)]: Done 5004 tasks      | elapsed: 94.1min\n",
      "[Parallel(n_jobs=-1)]: Done 6054 tasks      | elapsed: 115.8min\n",
      "[Parallel(n_jobs=-1)]: Done 7204 tasks      | elapsed: 136.9min\n",
      "[Parallel(n_jobs=-1)]: Done 8454 tasks      | elapsed: 160.3min\n",
      "[Parallel(n_jobs=-1)]: Done 9804 tasks      | elapsed: 187.0min\n",
      "[Parallel(n_jobs=-1)]: Done 10500 out of 10500 | elapsed: 203.5min finished\n"
     ]
    },
    {
     "data": {
      "text/plain": [
       "GridSearchCV(cv=5, estimator=MLPClassifier(early_stopping=True), n_jobs=-1,\n",
       "             param_grid={'activation': ['relu'],\n",
       "                         'alpha': [0, 1e-15, 1e-10, 1e-05, 0.001, 0.01, 0.1],\n",
       "                         'hidden_layer_sizes': [(5, 0), (10, 0), (10, 5),\n",
       "                                                (15, 0), (15, 5), (15, 10),\n",
       "                                                (20, 0), (20, 5), (20, 10),\n",
       "                                                (20, 15), (25, 0), (25, 5),\n",
       "                                                (25, 10), (25, 15), (25, 20),\n",
       "                                                (30, 0), (30, 5), (30, 10),\n",
       "                                                (30, 15), (30, 20), (30, 25),\n",
       "                                                (35, 0), (35, 5), (35, 10),\n",
       "                                                (35, 15), (35, 20), (35, 25),\n",
       "                                                (35, 30), (40, 0), (40, 5), ...],\n",
       "                         'learning_rate': ['constant'], 'solver': ['adam']},\n",
       "             scoring='roc_auc', verbose=1)"
      ]
     },
     "execution_count": 25,
     "metadata": {},
     "output_type": "execute_result"
    }
   ],
   "source": [
    "mlp = MLPClassifier(early_stopping = True) #Multi-layer Perceptron Classifier\n",
    "\n",
    "params= {'hidden_layer_sizes':[(n1,n2) for n1 in range(0, 121, 5) for n2 in range(0, n1, 5)], #Quantidades de neurônios nas camadas ocultas\n",
    "        'activation': ['relu'], #A função de ativação: Rectified Linear Unit (ReLu)\n",
    "        'solver':['adam'], #O otimizador dos pesos\n",
    "        'alpha': [0, 1e-15, 1e-10, 1e-5, 1e-3, 1e-2, 1e-1], #Termo de regularização\n",
    "        'learning_rate':['constant']} #Taxa de Aprendizagem para atualizações de peso\n",
    "\n",
    "clf2 = GridSearchCV(mlp, params, n_jobs = -1, verbose = 1, cv=5, scoring = 'roc_auc') #Maximização dos Parâmetros\n",
    "clf2.fit(X_train,Y_train)"
   ]
  },
  {
   "cell_type": "code",
   "execution_count": 26,
   "metadata": {
    "execution": {
     "iopub.execute_input": "2020-11-24T22:28:46.291825Z",
     "iopub.status.busy": "2020-11-24T22:28:46.291040Z",
     "iopub.status.idle": "2020-11-24T22:28:46.295928Z",
     "shell.execute_reply": "2020-11-24T22:28:46.295390Z"
    },
    "papermill": {
     "duration": 0.082562,
     "end_time": "2020-11-24T22:28:46.296040",
     "exception": false,
     "start_time": "2020-11-24T22:28:46.213478",
     "status": "completed"
    },
    "tags": []
   },
   "outputs": [
    {
     "data": {
      "text/plain": [
       "{'activation': 'relu',\n",
       " 'alpha': 1e-15,\n",
       " 'hidden_layer_sizes': (115, 75),\n",
       " 'learning_rate': 'constant',\n",
       " 'solver': 'adam'}"
      ]
     },
     "execution_count": 26,
     "metadata": {},
     "output_type": "execute_result"
    }
   ],
   "source": [
    "clf2.best_params_"
   ]
  },
  {
   "cell_type": "code",
   "execution_count": 27,
   "metadata": {
    "execution": {
     "iopub.execute_input": "2020-11-24T22:28:46.456788Z",
     "iopub.status.busy": "2020-11-24T22:28:46.456001Z",
     "iopub.status.idle": "2020-11-24T22:28:46.462996Z",
     "shell.execute_reply": "2020-11-24T22:28:46.461804Z"
    },
    "papermill": {
     "duration": 0.094497,
     "end_time": "2020-11-24T22:28:46.463126",
     "exception": false,
     "start_time": "2020-11-24T22:28:46.368629",
     "status": "completed"
    },
    "tags": []
   },
   "outputs": [
    {
     "name": "stdout",
     "output_type": "stream",
     "text": [
      "Os melhores parâmetros são:  ['relu', 1e-15, (115, 75), 'constant', 'adam']\n"
     ]
    }
   ],
   "source": [
    "#Cria uma lista com os melhores parâmetros encontrados\n",
    "\n",
    "best_params = clf2.best_params_\n",
    "\n",
    "mlp2_best_params = list(best_params.values())\n",
    "\n",
    "print('Os melhores parâmetros são: ', mlp2_best_params)"
   ]
  },
  {
   "cell_type": "code",
   "execution_count": 28,
   "metadata": {
    "execution": {
     "iopub.execute_input": "2020-11-24T22:28:46.611735Z",
     "iopub.status.busy": "2020-11-24T22:28:46.610988Z",
     "iopub.status.idle": "2020-11-24T22:28:46.616027Z",
     "shell.execute_reply": "2020-11-24T22:28:46.615526Z"
    },
    "papermill": {
     "duration": 0.08101,
     "end_time": "2020-11-24T22:28:46.616127",
     "exception": false,
     "start_time": "2020-11-24T22:28:46.535117",
     "status": "completed"
    },
    "tags": []
   },
   "outputs": [
    {
     "data": {
      "text/plain": [
       "0.8916200580824618"
      ]
     },
     "execution_count": 28,
     "metadata": {},
     "output_type": "execute_result"
    }
   ],
   "source": [
    "clf2.best_score_ #Maior valor de AUC encontrado"
   ]
  },
  {
   "cell_type": "markdown",
   "metadata": {
    "papermill": {
     "duration": 0.074026,
     "end_time": "2020-11-24T22:28:46.762902",
     "exception": false,
     "start_time": "2020-11-24T22:28:46.688876",
     "status": "completed"
    },
    "tags": []
   },
   "source": [
    "# 4.Treinamento de Redes Neurais Artificiais com Tensorflow 2 e Keras \n",
    "Neste segmento, treina-se uma rede neural com 2 camadas ocultas (TF2), implementando-se Tensorflow 2 e Keras. Toma-se como referência o notebook *tensorflow-keras.ipynb*."
   ]
  },
  {
   "cell_type": "code",
   "execution_count": 29,
   "metadata": {
    "execution": {
     "iopub.execute_input": "2020-11-24T22:28:46.918069Z",
     "iopub.status.busy": "2020-11-24T22:28:46.917317Z",
     "iopub.status.idle": "2020-11-24T22:28:46.921618Z",
     "shell.execute_reply": "2020-11-24T22:28:46.921055Z"
    },
    "papermill": {
     "duration": 0.085509,
     "end_time": "2020-11-24T22:28:46.921730",
     "exception": false,
     "start_time": "2020-11-24T22:28:46.836221",
     "status": "completed"
    },
    "tags": []
   },
   "outputs": [],
   "source": [
    "Y_train=np.array(Y_train) "
   ]
  },
  {
   "cell_type": "markdown",
   "metadata": {
    "papermill": {
     "duration": 0.072644,
     "end_time": "2020-11-24T22:28:47.066779",
     "exception": false,
     "start_time": "2020-11-24T22:28:46.994135",
     "status": "completed"
    },
    "tags": []
   },
   "source": [
    "Precisa-se, primeiro, dividir os dados de treino para gerar aqueles que serão usados como validação:"
   ]
  },
  {
   "cell_type": "code",
   "execution_count": 30,
   "metadata": {
    "execution": {
     "iopub.execute_input": "2020-11-24T22:28:47.218478Z",
     "iopub.status.busy": "2020-11-24T22:28:47.217787Z",
     "iopub.status.idle": "2020-11-24T22:28:47.229222Z",
     "shell.execute_reply": "2020-11-24T22:28:47.229862Z"
    },
    "papermill": {
     "duration": 0.090306,
     "end_time": "2020-11-24T22:28:47.230020",
     "exception": false,
     "start_time": "2020-11-24T22:28:47.139714",
     "status": "completed"
    },
    "tags": []
   },
   "outputs": [],
   "source": [
    "X_train_t, X_train_val, Y_train_t, Y_train_val = train_test_split(X_train, Y_train,\n",
    "                                                            test_size=0.2, random_state=42)"
   ]
  },
  {
   "cell_type": "markdown",
   "metadata": {
    "papermill": {
     "duration": 0.111334,
     "end_time": "2020-11-24T22:28:47.451470",
     "exception": false,
     "start_time": "2020-11-24T22:28:47.340136",
     "status": "completed"
    },
    "tags": []
   },
   "source": [
    "Com o objetivo de maximizar os parâmetros dessa rede neural, faz-se buscas aleatórias em possíveis valores desses parâmetros, tais valores então são testados."
   ]
  },
  {
   "cell_type": "code",
   "execution_count": 31,
   "metadata": {
    "execution": {
     "iopub.execute_input": "2020-11-24T22:28:47.688725Z",
     "iopub.status.busy": "2020-11-24T22:28:47.688022Z",
     "iopub.status.idle": "2020-11-24T22:28:47.692558Z",
     "shell.execute_reply": "2020-11-24T22:28:47.691712Z"
    },
    "papermill": {
     "duration": 0.131097,
     "end_time": "2020-11-24T22:28:47.692686",
     "exception": false,
     "start_time": "2020-11-24T22:28:47.561589",
     "status": "completed"
    },
    "tags": []
   },
   "outputs": [],
   "source": [
    "n_features = 50 \n",
    "n_iter = 500\n",
    "\n",
    "neurons=[] #Lista destinada às quantidades de neurônios nas respectivas camadas ocultas\n",
    "reg = [] #Lista destinada aos valores dos parâmetros de regularização\n",
    "\n",
    "for i in range(n_iter): #Insere valores aleatórios na lista neurons\n",
    "    n1 = random.randrange(3,160,1)\n",
    "    n2 = random.randrange(1, n1,1)\n",
    "    neurons.append((n1,n2))\n",
    "    \n",
    "    L1 = random.choice([0, 1e-15, 1e-10, 1e-5, 1e-3, 1e-2, 1e-1]) #Insere valores aleatórios na lista reg\n",
    "    L2 = random.choice([0, 1e-15, 1e-10, 1e-5, 1e-3, 1e-2, 1e-1])\n",
    "    reg.append((L1,L2))\n",
    "    \n",
    "#Cria um DataFrame com as listas compostas pelos valores sorteados\n",
    "#Adiciona as colunas epochs e auc que ainda serão preenchidas\n",
    "params = {'neurons': neurons, 'reg': reg, 'epochs':n_iter*[None], 'auc':n_iter*[None]} \n",
    "params = pd.DataFrame(params)\n",
    "params = params[['neurons', 'reg', 'epochs', 'auc']]"
   ]
  },
  {
   "cell_type": "code",
   "execution_count": 32,
   "metadata": {
    "execution": {
     "iopub.execute_input": "2020-11-24T22:28:47.860897Z",
     "iopub.status.busy": "2020-11-24T22:28:47.860322Z",
     "iopub.status.idle": "2020-11-24T22:28:47.863776Z",
     "shell.execute_reply": "2020-11-24T22:28:47.863235Z"
    },
    "papermill": {
     "duration": 0.090913,
     "end_time": "2020-11-24T22:28:47.863893",
     "exception": false,
     "start_time": "2020-11-24T22:28:47.772980",
     "status": "completed"
    },
    "tags": []
   },
   "outputs": [
    {
     "name": "stdout",
     "output_type": "stream",
     "text": [
      "<class 'pandas.core.frame.DataFrame'>\n",
      "RangeIndex: 500 entries, 0 to 499\n",
      "Data columns (total 4 columns):\n",
      " #   Column   Non-Null Count  Dtype \n",
      "---  ------   --------------  ----- \n",
      " 0   neurons  500 non-null    object\n",
      " 1   reg      500 non-null    object\n",
      " 2   epochs   0 non-null      object\n",
      " 3   auc      0 non-null      object\n",
      "dtypes: object(4)\n",
      "memory usage: 15.8+ KB\n"
     ]
    }
   ],
   "source": [
    "params.info()"
   ]
  },
  {
   "cell_type": "code",
   "execution_count": 33,
   "metadata": {
    "execution": {
     "iopub.execute_input": "2020-11-24T22:28:48.039732Z",
     "iopub.status.busy": "2020-11-24T22:28:48.038957Z",
     "iopub.status.idle": "2020-11-24T22:28:48.044582Z",
     "shell.execute_reply": "2020-11-24T22:28:48.044085Z"
    },
    "papermill": {
     "duration": 0.098402,
     "end_time": "2020-11-24T22:28:48.044690",
     "exception": false,
     "start_time": "2020-11-24T22:28:47.946288",
     "status": "completed"
    },
    "tags": []
   },
   "outputs": [
    {
     "data": {
      "text/html": [
       "<div>\n",
       "<style scoped>\n",
       "    .dataframe tbody tr th:only-of-type {\n",
       "        vertical-align: middle;\n",
       "    }\n",
       "\n",
       "    .dataframe tbody tr th {\n",
       "        vertical-align: top;\n",
       "    }\n",
       "\n",
       "    .dataframe thead th {\n",
       "        text-align: right;\n",
       "    }\n",
       "</style>\n",
       "<table border=\"1\" class=\"dataframe\">\n",
       "  <thead>\n",
       "    <tr style=\"text-align: right;\">\n",
       "      <th></th>\n",
       "      <th>neurons</th>\n",
       "      <th>reg</th>\n",
       "      <th>epochs</th>\n",
       "      <th>auc</th>\n",
       "    </tr>\n",
       "  </thead>\n",
       "  <tbody>\n",
       "    <tr>\n",
       "      <th>0</th>\n",
       "      <td>(5, 1)</td>\n",
       "      <td>(0, 0.1)</td>\n",
       "      <td>None</td>\n",
       "      <td>None</td>\n",
       "    </tr>\n",
       "    <tr>\n",
       "      <th>1</th>\n",
       "      <td>(27, 9)</td>\n",
       "      <td>(0, 1e-15)</td>\n",
       "      <td>None</td>\n",
       "      <td>None</td>\n",
       "    </tr>\n",
       "    <tr>\n",
       "      <th>2</th>\n",
       "      <td>(107, 95)</td>\n",
       "      <td>(0.01, 0)</td>\n",
       "      <td>None</td>\n",
       "      <td>None</td>\n",
       "    </tr>\n",
       "    <tr>\n",
       "      <th>3</th>\n",
       "      <td>(142, 31)</td>\n",
       "      <td>(1e-10, 1e-10)</td>\n",
       "      <td>None</td>\n",
       "      <td>None</td>\n",
       "    </tr>\n",
       "    <tr>\n",
       "      <th>4</th>\n",
       "      <td>(70, 19)</td>\n",
       "      <td>(1e-10, 0.1)</td>\n",
       "      <td>None</td>\n",
       "      <td>None</td>\n",
       "    </tr>\n",
       "  </tbody>\n",
       "</table>\n",
       "</div>"
      ],
      "text/plain": [
       "     neurons             reg epochs   auc\n",
       "0     (5, 1)        (0, 0.1)   None  None\n",
       "1    (27, 9)      (0, 1e-15)   None  None\n",
       "2  (107, 95)       (0.01, 0)   None  None\n",
       "3  (142, 31)  (1e-10, 1e-10)   None  None\n",
       "4   (70, 19)    (1e-10, 0.1)   None  None"
      ]
     },
     "execution_count": 33,
     "metadata": {},
     "output_type": "execute_result"
    }
   ],
   "source": [
    "params.head()"
   ]
  },
  {
   "cell_type": "code",
   "execution_count": 34,
   "metadata": {
    "execution": {
     "iopub.execute_input": "2020-11-24T22:28:48.268692Z",
     "iopub.status.busy": "2020-11-24T22:28:48.267602Z",
     "iopub.status.idle": "2020-11-24T22:28:48.271913Z",
     "shell.execute_reply": "2020-11-24T22:28:48.271069Z"
    },
    "papermill": {
     "duration": 0.129918,
     "end_time": "2020-11-24T22:28:48.272042",
     "exception": false,
     "start_time": "2020-11-24T22:28:48.142124",
     "status": "completed"
    },
    "tags": []
   },
   "outputs": [],
   "source": [
    "#Esta função gera modelos de redes neurais\n",
    "def model_creator(neurons=(10,10), reg=(0.001,0.001)):\n",
    "    \n",
    "    ops.reset_default_graph() #Reseta os grafos das redes neurais\n",
    "    \n",
    "    model = Sequential()\n",
    "    model.add(Dense(neurons[0], input_shape=(n_features,), activation='relu', \n",
    "                    kernel_regularizer=regularizers.l1_l2(l1=reg[0], l2=reg[1]), \n",
    "                    bias_regularizer=regularizers.l1_l2(l1=reg[0], l2=reg[1])))\n",
    "    model.add(Dense(neurons[1], activation='relu', \n",
    "                    kernel_regularizer=regularizers.l1_l2(l1=reg[0], l2=reg[1]), \n",
    "                    bias_regularizer=regularizers.l1_l2(l1=reg[0], l2=reg[1])))\n",
    "    model.add(Dense(1, activation='sigmoid', \n",
    "                    kernel_regularizer=regularizers.l1_l2(l1=reg[0], l2=reg[1]), \n",
    "                    bias_regularizer=regularizers.l1_l2(l1=reg[0], l2=reg[1])))\n",
    "    \n",
    "    #Compilação\n",
    "    model.compile(optimizer='adam', loss='binary_crossentropy', metrics=[tf.keras.metrics.AUC()])\n",
    "    return model"
   ]
  },
  {
   "cell_type": "code",
   "execution_count": 35,
   "metadata": {
    "execution": {
     "iopub.execute_input": "2020-11-24T22:28:48.519928Z",
     "iopub.status.busy": "2020-11-24T22:28:48.518109Z",
     "iopub.status.idle": "2020-11-24T22:58:25.851269Z",
     "shell.execute_reply": "2020-11-24T22:58:25.851825Z"
    },
    "papermill": {
     "duration": 1777.464455,
     "end_time": "2020-11-24T22:58:25.851957",
     "exception": false,
     "start_time": "2020-11-24T22:28:48.387502",
     "status": "completed"
    },
    "tags": []
   },
   "outputs": [
    {
     "name": "stdout",
     "output_type": "stream",
     "text": [
      "10.00% concluded.\n",
      "20.00% concluded.\n",
      "30.00% concluded.\n",
      "40.00% concluded.\n",
      "50.00% concluded.\n",
      "60.00% concluded.\n",
      "70.00% concluded.\n",
      "80.00% concluded.\n",
      "90.00% concluded.\n",
      "100.00% concluded.\n"
     ]
    }
   ],
   "source": [
    "for j in range(n_iter):\n",
    "    model = model_creator(params.loc[j, 'neurons'], params.loc[j, 'reg'])\n",
    "    \n",
    "    #Testagem do modelo com os possíveis valores dos parâmetros\n",
    "    tf2 = model.fit(X_train_t, Y_train_t, epochs=30, validation_data=(X_train_val, Y_train_val),\n",
    "                        batch_size=366, shuffle=True, verbose=False, workers = -1, use_multiprocessing = True,\n",
    "                        callbacks=[EarlyStopping(monitor='val_auc',patience=10)])\n",
    "    \n",
    "    #Inserção dos valores obtidos dos epochs e auc\n",
    "    params.loc[j,'epochs'] = len(tf2.history['val_auc'])\n",
    "    params.loc[j,'auc']=tf2.history['val_auc'][-1]\n",
    "    \n",
    "    #Progresso\n",
    "    if (j+1)%int(n_iter/10)==0: print('{:.2f}% concluded.'.format(100*(j+1)/n_iter))\n",
    "    else: pass\n",
    "    "
   ]
  },
  {
   "cell_type": "code",
   "execution_count": 36,
   "metadata": {
    "execution": {
     "iopub.execute_input": "2020-11-24T22:58:26.027873Z",
     "iopub.status.busy": "2020-11-24T22:58:26.027121Z",
     "iopub.status.idle": "2020-11-24T22:58:26.033401Z",
     "shell.execute_reply": "2020-11-24T22:58:26.032848Z"
    },
    "papermill": {
     "duration": 0.103288,
     "end_time": "2020-11-24T22:58:26.033507",
     "exception": false,
     "start_time": "2020-11-24T22:58:25.930219",
     "status": "completed"
    },
    "tags": []
   },
   "outputs": [
    {
     "data": {
      "text/html": [
       "<div>\n",
       "<style scoped>\n",
       "    .dataframe tbody tr th:only-of-type {\n",
       "        vertical-align: middle;\n",
       "    }\n",
       "\n",
       "    .dataframe tbody tr th {\n",
       "        vertical-align: top;\n",
       "    }\n",
       "\n",
       "    .dataframe thead th {\n",
       "        text-align: right;\n",
       "    }\n",
       "</style>\n",
       "<table border=\"1\" class=\"dataframe\">\n",
       "  <thead>\n",
       "    <tr style=\"text-align: right;\">\n",
       "      <th></th>\n",
       "      <th>neurons</th>\n",
       "      <th>reg</th>\n",
       "      <th>epochs</th>\n",
       "      <th>auc</th>\n",
       "    </tr>\n",
       "  </thead>\n",
       "  <tbody>\n",
       "    <tr>\n",
       "      <th>0</th>\n",
       "      <td>(5, 1)</td>\n",
       "      <td>(0, 0.1)</td>\n",
       "      <td>19</td>\n",
       "      <td>0.5</td>\n",
       "    </tr>\n",
       "    <tr>\n",
       "      <th>1</th>\n",
       "      <td>(27, 9)</td>\n",
       "      <td>(0, 1e-15)</td>\n",
       "      <td>11</td>\n",
       "      <td>0.893965</td>\n",
       "    </tr>\n",
       "    <tr>\n",
       "      <th>2</th>\n",
       "      <td>(107, 95)</td>\n",
       "      <td>(0.01, 0)</td>\n",
       "      <td>12</td>\n",
       "      <td>0.5</td>\n",
       "    </tr>\n",
       "    <tr>\n",
       "      <th>3</th>\n",
       "      <td>(142, 31)</td>\n",
       "      <td>(1e-10, 1e-10)</td>\n",
       "      <td>11</td>\n",
       "      <td>0.895382</td>\n",
       "    </tr>\n",
       "    <tr>\n",
       "      <th>4</th>\n",
       "      <td>(70, 19)</td>\n",
       "      <td>(1e-10, 0.1)</td>\n",
       "      <td>17</td>\n",
       "      <td>0.5</td>\n",
       "    </tr>\n",
       "  </tbody>\n",
       "</table>\n",
       "</div>"
      ],
      "text/plain": [
       "     neurons             reg epochs       auc\n",
       "0     (5, 1)        (0, 0.1)     19       0.5\n",
       "1    (27, 9)      (0, 1e-15)     11  0.893965\n",
       "2  (107, 95)       (0.01, 0)     12       0.5\n",
       "3  (142, 31)  (1e-10, 1e-10)     11  0.895382\n",
       "4   (70, 19)    (1e-10, 0.1)     17       0.5"
      ]
     },
     "execution_count": 36,
     "metadata": {},
     "output_type": "execute_result"
    }
   ],
   "source": [
    "params.head()"
   ]
  },
  {
   "cell_type": "markdown",
   "metadata": {
    "papermill": {
     "duration": 0.080253,
     "end_time": "2020-11-24T22:58:26.193676",
     "exception": false,
     "start_time": "2020-11-24T22:58:26.113423",
     "status": "completed"
    },
    "tags": []
   },
   "source": [
    "Após a testagem do modelo, identificam-se os melhores parâmetros:"
   ]
  },
  {
   "cell_type": "code",
   "execution_count": 37,
   "metadata": {
    "execution": {
     "iopub.execute_input": "2020-11-24T22:58:26.371869Z",
     "iopub.status.busy": "2020-11-24T22:58:26.371072Z",
     "iopub.status.idle": "2020-11-24T22:58:26.377300Z",
     "shell.execute_reply": "2020-11-24T22:58:26.376608Z"
    },
    "papermill": {
     "duration": 0.102909,
     "end_time": "2020-11-24T22:58:26.377418",
     "exception": false,
     "start_time": "2020-11-24T22:58:26.274509",
     "status": "completed"
    },
    "tags": []
   },
   "outputs": [
    {
     "data": {
      "text/html": [
       "<div>\n",
       "<style scoped>\n",
       "    .dataframe tbody tr th:only-of-type {\n",
       "        vertical-align: middle;\n",
       "    }\n",
       "\n",
       "    .dataframe tbody tr th {\n",
       "        vertical-align: top;\n",
       "    }\n",
       "\n",
       "    .dataframe thead th {\n",
       "        text-align: right;\n",
       "    }\n",
       "</style>\n",
       "<table border=\"1\" class=\"dataframe\">\n",
       "  <thead>\n",
       "    <tr style=\"text-align: right;\">\n",
       "      <th></th>\n",
       "      <th>neurons</th>\n",
       "      <th>reg</th>\n",
       "      <th>epochs</th>\n",
       "      <th>auc</th>\n",
       "    </tr>\n",
       "  </thead>\n",
       "  <tbody>\n",
       "    <tr>\n",
       "      <th>47</th>\n",
       "      <td>(154, 84)</td>\n",
       "      <td>(1e-10, 0.001)</td>\n",
       "      <td>11</td>\n",
       "      <td>0.901067</td>\n",
       "    </tr>\n",
       "  </tbody>\n",
       "</table>\n",
       "</div>"
      ],
      "text/plain": [
       "      neurons             reg epochs       auc\n",
       "47  (154, 84)  (1e-10, 0.001)     11  0.901067"
      ]
     },
     "execution_count": 37,
     "metadata": {},
     "output_type": "execute_result"
    }
   ],
   "source": [
    "#Ranqueamento com base nos valores de auc obtidos\n",
    "rank = np.argsort(params.loc[:,'auc'])\n",
    "rank = params.iloc[rank[::-1],:]\n",
    "rank.head(1)"
   ]
  },
  {
   "cell_type": "code",
   "execution_count": 38,
   "metadata": {
    "execution": {
     "iopub.execute_input": "2020-11-24T22:58:26.551820Z",
     "iopub.status.busy": "2020-11-24T22:58:26.550996Z",
     "iopub.status.idle": "2020-11-24T22:58:26.555444Z",
     "shell.execute_reply": "2020-11-24T22:58:26.554754Z"
    },
    "papermill": {
     "duration": 0.094215,
     "end_time": "2020-11-24T22:58:26.555554",
     "exception": false,
     "start_time": "2020-11-24T22:58:26.461339",
     "status": "completed"
    },
    "tags": []
   },
   "outputs": [
    {
     "name": "stdout",
     "output_type": "stream",
     "text": [
      "Os melhores parâmetros são:  [(154, 84), (1e-10, 0.001), 11]\n"
     ]
    }
   ],
   "source": [
    "#Cria uma lista com os melhores parâmetros encontrados\n",
    "neu = rank['neurons'].tolist()\n",
    "regu = rank['reg'].tolist()\n",
    "epochs = rank['epochs'].tolist()\n",
    "\n",
    "tf2_best_params = [neu[0],regu[0], epochs[0]]\n",
    "print('Os melhores parâmetros são: ', tf2_best_params)"
   ]
  },
  {
   "cell_type": "code",
   "execution_count": 39,
   "metadata": {
    "execution": {
     "iopub.execute_input": "2020-11-24T22:58:26.732908Z",
     "iopub.status.busy": "2020-11-24T22:58:26.730341Z",
     "iopub.status.idle": "2020-11-24T22:58:27.197528Z",
     "shell.execute_reply": "2020-11-24T22:58:27.196819Z"
    },
    "papermill": {
     "duration": 0.560157,
     "end_time": "2020-11-24T22:58:27.197645",
     "exception": false,
     "start_time": "2020-11-24T22:58:26.637488",
     "status": "completed"
    },
    "tags": []
   },
   "outputs": [
    {
     "data": {
      "image/png": "[encoded data removed]",
      "text/plain": [
       "<Figure size 432x288 with 1 Axes>"
      ]
     },
     "metadata": {
      "needs_background": "light"
     },
     "output_type": "display_data"
    },
    {
     "data": {
      "image/png": "[encoded data removed]",
      "text/plain": [
       "<Figure size 432x288 with 1 Axes>"
      ]
     },
     "metadata": {
      "needs_background": "light"
     },
     "output_type": "display_data"
    }
   ],
   "source": [
    "#Função de perda\n",
    "plt.title('Função de perda')\n",
    "plt.xlabel('Epoch')\n",
    "plt.ylabel('Cross Entropy')\n",
    "plt.plot(tf2.history['loss'], label='train')\n",
    "plt.plot(tf2.history['val_loss'], label='val')\n",
    "plt.legend()\n",
    "plt.show()\n",
    "\n",
    "#AUC\n",
    "plt.title('AUC (ROC)')\n",
    "plt.xlabel('Epoch')\n",
    "plt.ylabel('AUC')\n",
    "plt.plot(tf2.history['auc'], label='train')\n",
    "plt.plot(tf2.history['val_auc'], label='val')\n",
    "plt.legend()\n",
    "plt.show()"
   ]
  },
  {
   "cell_type": "markdown",
   "metadata": {
    "papermill": {
     "duration": 0.081496,
     "end_time": "2020-11-24T22:58:27.361339",
     "exception": false,
     "start_time": "2020-11-24T22:58:27.279843",
     "status": "completed"
    },
    "tags": []
   },
   "source": [
    "Os gráficos acima ilustram as funções de perda e AUC(ROC)."
   ]
  },
  {
   "cell_type": "markdown",
   "metadata": {
    "papermill": {
     "duration": 0.097864,
     "end_time": "2020-11-24T22:58:27.547516",
     "exception": false,
     "start_time": "2020-11-24T22:58:27.449652",
     "status": "completed"
    },
    "tags": []
   },
   "source": [
    "# 5. Comparação de Performance dos Classificadores\n",
    "Neste segmento, os classificadores recebem um conjunto de teste e se comparam os resultados obtidos por cada um."
   ]
  },
  {
   "cell_type": "markdown",
   "metadata": {
    "papermill": {
     "duration": 0.092354,
     "end_time": "2020-11-24T22:58:27.727097",
     "exception": false,
     "start_time": "2020-11-24T22:58:27.634743",
     "status": "completed"
    },
    "tags": []
   },
   "source": [
    "* Transformação dos Dados de Teste"
   ]
  },
  {
   "cell_type": "markdown",
   "metadata": {
    "papermill": {
     "duration": 0.080689,
     "end_time": "2020-11-24T22:58:27.891321",
     "exception": false,
     "start_time": "2020-11-24T22:58:27.810632",
     "status": "completed"
    },
    "tags": []
   },
   "source": [
    "Primeiro, faz-se o mesmo tratamento de dados nos de teste."
   ]
  },
  {
   "cell_type": "code",
   "execution_count": 40,
   "metadata": {
    "execution": {
     "iopub.execute_input": "2020-11-24T22:58:28.067668Z",
     "iopub.status.busy": "2020-11-24T22:58:28.066917Z",
     "iopub.status.idle": "2020-11-24T22:58:28.071565Z",
     "shell.execute_reply": "2020-11-24T22:58:28.070881Z"
    },
    "papermill": {
     "duration": 0.098374,
     "end_time": "2020-11-24T22:58:28.071681",
     "exception": false,
     "start_time": "2020-11-24T22:58:27.973307",
     "status": "completed"
    },
    "tags": []
   },
   "outputs": [],
   "source": [
    "#Criação das listas X_test1 e Y_test2 contendo reviews e a classificação positive, respectivamente.\n",
    "\n",
    "X_test1 = data_test1['review'].tolist()\n",
    "Y_test1 = data_test1['positive'].tolist()"
   ]
  },
  {
   "cell_type": "code",
   "execution_count": 41,
   "metadata": {
    "execution": {
     "iopub.execute_input": "2020-11-24T22:58:28.249569Z",
     "iopub.status.busy": "2020-11-24T22:58:28.243273Z",
     "iopub.status.idle": "2020-11-24T23:00:59.770317Z",
     "shell.execute_reply": "2020-11-24T23:00:59.766579Z"
    },
    "papermill": {
     "duration": 151.617743,
     "end_time": "2020-11-24T23:00:59.770440",
     "exception": false,
     "start_time": "2020-11-24T22:58:28.152697",
     "status": "completed"
    },
    "tags": []
   },
   "outputs": [],
   "source": [
    "X_test1 = [clean(x) for x in X_test1] #Limpeza e padronização das reviews\n",
    "\n",
    "X_test1 = [x.split() for x in X_test1] #Tokenização das reviews\n",
    "\n",
    "X_test1 = [emb(x, d2v) for x in X_test1] #Aplicação da função nas reviews\n",
    "\n",
    "X_test1 = np.array(X_test1)"
   ]
  },
  {
   "cell_type": "code",
   "execution_count": 42,
   "metadata": {
    "execution": {
     "iopub.execute_input": "2020-11-24T23:00:59.942049Z",
     "iopub.status.busy": "2020-11-24T23:00:59.941453Z",
     "iopub.status.idle": "2020-11-24T23:00:59.945380Z",
     "shell.execute_reply": "2020-11-24T23:00:59.944879Z"
    },
    "papermill": {
     "duration": 0.093404,
     "end_time": "2020-11-24T23:00:59.945478",
     "exception": false,
     "start_time": "2020-11-24T23:00:59.852074",
     "status": "completed"
    },
    "tags": []
   },
   "outputs": [],
   "source": [
    "Y_test1 = np.array(Y_test1)"
   ]
  },
  {
   "cell_type": "code",
   "execution_count": 43,
   "metadata": {
    "execution": {
     "iopub.execute_input": "2020-11-24T23:01:00.115701Z",
     "iopub.status.busy": "2020-11-24T23:01:00.114885Z",
     "iopub.status.idle": "2020-11-24T23:01:00.120724Z",
     "shell.execute_reply": "2020-11-24T23:01:00.120140Z"
    },
    "papermill": {
     "duration": 0.09278,
     "end_time": "2020-11-24T23:01:00.120833",
     "exception": false,
     "start_time": "2020-11-24T23:01:00.028053",
     "status": "completed"
    },
    "tags": []
   },
   "outputs": [
    {
     "data": {
      "text/plain": [
       "(12492,)"
      ]
     },
     "execution_count": 43,
     "metadata": {},
     "output_type": "execute_result"
    }
   ],
   "source": [
    "Y_test1.shape"
   ]
  },
  {
   "cell_type": "markdown",
   "metadata": {
    "papermill": {
     "duration": 0.081166,
     "end_time": "2020-11-24T23:01:00.283725",
     "exception": false,
     "start_time": "2020-11-24T23:01:00.202559",
     "status": "completed"
    },
    "tags": []
   },
   "source": [
    "* Classificação de Performance:"
   ]
  },
  {
   "cell_type": "code",
   "execution_count": 44,
   "metadata": {
    "execution": {
     "iopub.execute_input": "2020-11-24T23:01:00.453808Z",
     "iopub.status.busy": "2020-11-24T23:01:00.453054Z",
     "iopub.status.idle": "2020-11-24T23:01:00.458726Z",
     "shell.execute_reply": "2020-11-24T23:01:00.457414Z"
    },
    "papermill": {
     "duration": 0.093493,
     "end_time": "2020-11-24T23:01:00.458874",
     "exception": false,
     "start_time": "2020-11-24T23:01:00.365381",
     "status": "completed"
    },
    "tags": []
   },
   "outputs": [
    {
     "name": "stdout",
     "output_type": "stream",
     "text": [
      "['relu', 0.01, 180, 'constant', 'adam']\n"
     ]
    }
   ],
   "source": [
    "print(mlp1_best_params) #Melhores parâmetros de MLP1"
   ]
  },
  {
   "cell_type": "code",
   "execution_count": 45,
   "metadata": {
    "execution": {
     "iopub.execute_input": "2020-11-24T23:01:00.630509Z",
     "iopub.status.busy": "2020-11-24T23:01:00.629839Z",
     "iopub.status.idle": "2020-11-24T23:01:00.634764Z",
     "shell.execute_reply": "2020-11-24T23:01:00.634001Z"
    },
    "papermill": {
     "duration": 0.091798,
     "end_time": "2020-11-24T23:01:00.634897",
     "exception": false,
     "start_time": "2020-11-24T23:01:00.543099",
     "status": "completed"
    },
    "tags": []
   },
   "outputs": [
    {
     "name": "stdout",
     "output_type": "stream",
     "text": [
      "['relu', 1e-15, (115, 75), 'constant', 'adam']\n"
     ]
    }
   ],
   "source": [
    "print(mlp2_best_params) #Melhores parâmetros de MLP2"
   ]
  },
  {
   "cell_type": "code",
   "execution_count": 46,
   "metadata": {
    "execution": {
     "iopub.execute_input": "2020-11-24T23:01:00.891929Z",
     "iopub.status.busy": "2020-11-24T23:01:00.891337Z",
     "iopub.status.idle": "2020-11-24T23:01:00.895620Z",
     "shell.execute_reply": "2020-11-24T23:01:00.895139Z"
    },
    "papermill": {
     "duration": 0.134655,
     "end_time": "2020-11-24T23:01:00.895703",
     "exception": false,
     "start_time": "2020-11-24T23:01:00.761048",
     "status": "completed"
    },
    "tags": []
   },
   "outputs": [
    {
     "name": "stdout",
     "output_type": "stream",
     "text": [
      "[(154, 84), (1e-10, 0.001), 11]\n"
     ]
    }
   ],
   "source": [
    "print(tf2_best_params) #Melhores parâmetros de TF2"
   ]
  },
  {
   "cell_type": "markdown",
   "metadata": {
    "papermill": {
     "duration": 0.083785,
     "end_time": "2020-11-24T23:01:01.063790",
     "exception": false,
     "start_time": "2020-11-24T23:01:00.980005",
     "status": "completed"
    },
    "tags": []
   },
   "source": [
    "Acima, verifica-se os melhores parâmetros encontrados para cada classificador, em seguida faz-se o treinamento de cada um com estes parâmetros."
   ]
  },
  {
   "cell_type": "code",
   "execution_count": 47,
   "metadata": {
    "execution": {
     "iopub.execute_input": "2020-11-24T23:01:01.242918Z",
     "iopub.status.busy": "2020-11-24T23:01:01.242282Z",
     "iopub.status.idle": "2020-11-24T23:01:12.973485Z",
     "shell.execute_reply": "2020-11-24T23:01:12.972820Z"
    },
    "papermill": {
     "duration": 11.825733,
     "end_time": "2020-11-24T23:01:12.973592",
     "exception": false,
     "start_time": "2020-11-24T23:01:01.147859",
     "status": "completed"
    },
    "tags": []
   },
   "outputs": [
    {
     "data": {
      "text/plain": [
       "<tensorflow.python.keras.callbacks.History at 0x7f9424127c50>"
      ]
     },
     "execution_count": 47,
     "metadata": {},
     "output_type": "execute_result"
    }
   ],
   "source": [
    "#Classificadores treinados com seus parâmetros maximizados:\n",
    "mlp1 = MLPClassifier(early_stopping = True,\n",
    "                     activation = mlp1_best_params[0],\n",
    "                     alpha = mlp1_best_params[1],\n",
    "                     hidden_layer_sizes = mlp1_best_params[2],\n",
    "                     learning_rate = mlp1_best_params[3],\n",
    "                     solver = mlp1_best_params[4])\n",
    "\n",
    "mlp1.fit(X_train,Y_train)\n",
    "\n",
    "\n",
    "mlp2 = MLPClassifier(early_stopping = True,\n",
    "                     activation = mlp2_best_params[0],\n",
    "                     alpha = mlp2_best_params[1],\n",
    "                     hidden_layer_sizes = mlp2_best_params[2],\n",
    "                     learning_rate = mlp2_best_params[3],\n",
    "                     solver = mlp2_best_params[4])\n",
    "\n",
    "mlp2.fit(X_train, Y_train)\n",
    "\n",
    "\n",
    "\n",
    "tf2 = model_creator(tf2_best_params[0], tf2_best_params[1])\n",
    "\n",
    "tf2.fit(X_train_t, Y_train_t,\n",
    "        validation_split =0,\n",
    "        epochs = tf2_best_params[2],\n",
    "        batch_size = 362,\n",
    "        shuffle = True,\n",
    "        verbose = False)\n"
   ]
  },
  {
   "cell_type": "markdown",
   "metadata": {
    "papermill": {
     "duration": 0.083906,
     "end_time": "2020-11-24T23:01:13.141674",
     "exception": false,
     "start_time": "2020-11-24T23:01:13.057768",
     "status": "completed"
    },
    "tags": []
   },
   "source": [
    "Então, com os classificadores treinados, faz-se a predição dos valores alvos com base nos dados de teste."
   ]
  },
  {
   "cell_type": "code",
   "execution_count": 48,
   "metadata": {
    "execution": {
     "iopub.execute_input": "2020-11-24T23:01:13.316978Z",
     "iopub.status.busy": "2020-11-24T23:01:13.315886Z",
     "iopub.status.idle": "2020-11-24T23:01:13.782875Z",
     "shell.execute_reply": "2020-11-24T23:01:13.782003Z"
    },
    "papermill": {
     "duration": 0.557595,
     "end_time": "2020-11-24T23:01:13.783022",
     "exception": false,
     "start_time": "2020-11-24T23:01:13.225427",
     "status": "completed"
    },
    "tags": []
   },
   "outputs": [],
   "source": [
    "#Predições e scores de cada um dos três classificadores\n",
    "mlp1_auc = roc_auc_score(Y_test1, mlp1.predict_proba(X_test1)[:,1])\n",
    "\n",
    "mlp2_auc = roc_auc_score(Y_test1, mlp2.predict_proba(X_test1)[:,1])\n",
    "\n",
    "tf2_auc = roc_auc_score(Y_test1, tf2.predict(X_test1))"
   ]
  },
  {
   "cell_type": "code",
   "execution_count": 49,
   "metadata": {
    "execution": {
     "iopub.execute_input": "2020-11-24T23:01:14.049017Z",
     "iopub.status.busy": "2020-11-24T23:01:14.045385Z",
     "iopub.status.idle": "2020-11-24T23:01:14.054559Z",
     "shell.execute_reply": "2020-11-24T23:01:14.053715Z"
    },
    "papermill": {
     "duration": 0.145368,
     "end_time": "2020-11-24T23:01:14.054689",
     "exception": false,
     "start_time": "2020-11-24T23:01:13.909321",
     "status": "completed"
    },
    "tags": []
   },
   "outputs": [
    {
     "data": {
      "text/html": [
       "<div>\n",
       "<style scoped>\n",
       "    .dataframe tbody tr th:only-of-type {\n",
       "        vertical-align: middle;\n",
       "    }\n",
       "\n",
       "    .dataframe tbody tr th {\n",
       "        vertical-align: top;\n",
       "    }\n",
       "\n",
       "    .dataframe thead th {\n",
       "        text-align: right;\n",
       "    }\n",
       "</style>\n",
       "<table border=\"1\" class=\"dataframe\">\n",
       "  <thead>\n",
       "    <tr style=\"text-align: right;\">\n",
       "      <th></th>\n",
       "      <th>Classificador</th>\n",
       "      <th>AUC</th>\n",
       "    </tr>\n",
       "  </thead>\n",
       "  <tbody>\n",
       "    <tr>\n",
       "      <th>0</th>\n",
       "      <td>MLP-1HL</td>\n",
       "      <td>0.893154</td>\n",
       "    </tr>\n",
       "    <tr>\n",
       "      <th>1</th>\n",
       "      <td>MLP-2HL</td>\n",
       "      <td>0.891397</td>\n",
       "    </tr>\n",
       "    <tr>\n",
       "      <th>2</th>\n",
       "      <td>TF2-2HL</td>\n",
       "      <td>0.890606</td>\n",
       "    </tr>\n",
       "  </tbody>\n",
       "</table>\n",
       "</div>"
      ],
      "text/plain": [
       "  Classificador       AUC\n",
       "0       MLP-1HL  0.893154\n",
       "1       MLP-2HL  0.891397\n",
       "2       TF2-2HL  0.890606"
      ]
     },
     "execution_count": 49,
     "metadata": {},
     "output_type": "execute_result"
    }
   ],
   "source": [
    "#Cria um DataFrame com os scores de cada classificador\n",
    "performance={\"Classificador\": ['MLP-1HL', 'MLP-2HL', 'TF2-2HL'], 'AUC': [mlp1_auc, mlp2_auc, tf2_auc]}\n",
    "performance = pd.DataFrame(performance, columns = ['Classificador', 'AUC'])\n",
    "performance"
   ]
  },
  {
   "cell_type": "code",
   "execution_count": 50,
   "metadata": {
    "execution": {
     "iopub.execute_input": "2020-11-24T23:01:14.318296Z",
     "iopub.status.busy": "2020-11-24T23:01:14.317489Z",
     "iopub.status.idle": "2020-11-24T23:01:14.323805Z",
     "shell.execute_reply": "2020-11-24T23:01:14.323196Z"
    },
    "papermill": {
     "duration": 0.140624,
     "end_time": "2020-11-24T23:01:14.323909",
     "exception": false,
     "start_time": "2020-11-24T23:01:14.183285",
     "status": "completed"
    },
    "tags": []
   },
   "outputs": [
    {
     "data": {
      "text/plain": [
       "0.8931539376680138"
      ]
     },
     "execution_count": 50,
     "metadata": {},
     "output_type": "execute_result"
    }
   ],
   "source": [
    "best_score= np.max(performance['AUC'])\n",
    "best_score"
   ]
  },
  {
   "cell_type": "markdown",
   "metadata": {
    "papermill": {
     "duration": 0.084206,
     "end_time": "2020-11-24T23:01:14.493475",
     "exception": false,
     "start_time": "2020-11-24T23:01:14.409269",
     "status": "completed"
    },
    "tags": []
   },
   "source": [
    "Observa-se que a diferença na performance dos três classificadores é bem pequena, mas escolhe-se o Multi-layer Perceptron com 2 camadas ocultas."
   ]
  },
  {
   "cell_type": "markdown",
   "metadata": {
    "papermill": {
     "duration": 0.084156,
     "end_time": "2020-11-24T23:01:14.662141",
     "exception": false,
     "start_time": "2020-11-24T23:01:14.577985",
     "status": "completed"
    },
    "tags": []
   },
   "source": [
    "# 6. Submissão\n",
    "Por fim, aplica-se o melhor classicador no conjunto teste de submissão."
   ]
  },
  {
   "cell_type": "markdown",
   "metadata": {
    "papermill": {
     "duration": 0.084944,
     "end_time": "2020-11-24T23:01:14.833513",
     "exception": false,
     "start_time": "2020-11-24T23:01:14.748569",
     "status": "completed"
    },
    "tags": []
   },
   "source": [
    "Faz-se o tratamento nos dados de teste de submissão:"
   ]
  },
  {
   "cell_type": "code",
   "execution_count": 51,
   "metadata": {
    "execution": {
     "iopub.execute_input": "2020-11-24T23:01:15.016038Z",
     "iopub.status.busy": "2020-11-24T23:01:15.015155Z",
     "iopub.status.idle": "2020-11-24T23:01:15.019601Z",
     "shell.execute_reply": "2020-11-24T23:01:15.018952Z"
    },
    "papermill": {
     "duration": 0.101284,
     "end_time": "2020-11-24T23:01:15.019709",
     "exception": false,
     "start_time": "2020-11-24T23:01:14.918425",
     "status": "completed"
    },
    "tags": []
   },
   "outputs": [],
   "source": [
    "#Criação das lista X_test2 contendo reviews.\n",
    "\n",
    "X_test2 = data_test2['review'].tolist()"
   ]
  },
  {
   "cell_type": "code",
   "execution_count": 52,
   "metadata": {
    "execution": {
     "iopub.execute_input": "2020-11-24T23:01:15.205442Z",
     "iopub.status.busy": "2020-11-24T23:01:15.199658Z",
     "iopub.status.idle": "2020-11-24T23:03:52.137096Z",
     "shell.execute_reply": "2020-11-24T23:03:52.133959Z"
    },
    "papermill": {
     "duration": 157.032678,
     "end_time": "2020-11-24T23:03:52.137246",
     "exception": false,
     "start_time": "2020-11-24T23:01:15.104568",
     "status": "completed"
    },
    "tags": []
   },
   "outputs": [],
   "source": [
    "X_test2 = [clean(x) for x in X_test2] #Limpeza e padronização das reviews\n",
    "\n",
    "X_test2 = [x.split() for x in X_test2] #Tokenização das reviews\n",
    "\n",
    "X_test2 = [emb(x, d2v) for x in X_test2] #Aplicação da função nas reviews\n",
    "\n",
    "X_test2 = np.array(X_test2)"
   ]
  },
  {
   "cell_type": "markdown",
   "metadata": {
    "papermill": {
     "duration": 0.088492,
     "end_time": "2020-11-24T23:03:52.311860",
     "exception": false,
     "start_time": "2020-11-24T23:03:52.223368",
     "status": "completed"
    },
    "tags": []
   },
   "source": [
    "Faz-se as predições das probabilidades alvo:"
   ]
  },
  {
   "cell_type": "code",
   "execution_count": 53,
   "metadata": {
    "execution": {
     "iopub.execute_input": "2020-11-24T23:03:52.500645Z",
     "iopub.status.busy": "2020-11-24T23:03:52.499995Z",
     "iopub.status.idle": "2020-11-24T23:03:52.551084Z",
     "shell.execute_reply": "2020-11-24T23:03:52.550501Z"
    },
    "papermill": {
     "duration": 0.141528,
     "end_time": "2020-11-24T23:03:52.551236",
     "exception": false,
     "start_time": "2020-11-24T23:03:52.409708",
     "status": "completed"
    },
    "tags": []
   },
   "outputs": [
    {
     "data": {
      "text/html": [
       "<div>\n",
       "<style scoped>\n",
       "    .dataframe tbody tr th:only-of-type {\n",
       "        vertical-align: middle;\n",
       "    }\n",
       "\n",
       "    .dataframe tbody tr th {\n",
       "        vertical-align: top;\n",
       "    }\n",
       "\n",
       "    .dataframe thead th {\n",
       "        text-align: right;\n",
       "    }\n",
       "</style>\n",
       "<table border=\"1\" class=\"dataframe\">\n",
       "  <thead>\n",
       "    <tr style=\"text-align: right;\">\n",
       "      <th></th>\n",
       "      <th>positive</th>\n",
       "    </tr>\n",
       "  </thead>\n",
       "  <tbody>\n",
       "    <tr>\n",
       "      <th>0</th>\n",
       "      <td>0.000540</td>\n",
       "    </tr>\n",
       "    <tr>\n",
       "      <th>1</th>\n",
       "      <td>0.408014</td>\n",
       "    </tr>\n",
       "    <tr>\n",
       "      <th>2</th>\n",
       "      <td>0.008579</td>\n",
       "    </tr>\n",
       "    <tr>\n",
       "      <th>3</th>\n",
       "      <td>0.068661</td>\n",
       "    </tr>\n",
       "    <tr>\n",
       "      <th>4</th>\n",
       "      <td>0.044437</td>\n",
       "    </tr>\n",
       "  </tbody>\n",
       "</table>\n",
       "</div>"
      ],
      "text/plain": [
       "   positive\n",
       "0  0.000540\n",
       "1  0.408014\n",
       "2  0.008579\n",
       "3  0.068661\n",
       "4  0.044437"
      ]
     },
     "execution_count": 53,
     "metadata": {},
     "output_type": "execute_result"
    }
   ],
   "source": [
    "#Predições\n",
    "predictions = mlp2.predict_proba(X_test2)[:,1]\n",
    "submission = pd.DataFrame({'positive':predictions})\n",
    "submission.head()"
   ]
  },
  {
   "cell_type": "markdown",
   "metadata": {
    "papermill": {
     "duration": 0.129125,
     "end_time": "2020-11-24T23:03:52.807958",
     "exception": false,
     "start_time": "2020-11-24T23:03:52.678833",
     "status": "completed"
    },
    "tags": []
   },
   "source": [
    "Finalmente, converte-se o DataFrame que contém as predições em csv para submissão:"
   ]
  },
  {
   "cell_type": "code",
   "execution_count": 54,
   "metadata": {
    "execution": {
     "iopub.execute_input": "2020-11-24T23:03:53.159772Z",
     "iopub.status.busy": "2020-11-24T23:03:53.159129Z",
     "iopub.status.idle": "2020-11-24T23:03:53.460561Z",
     "shell.execute_reply": "2020-11-24T23:03:53.459495Z"
    },
    "papermill": {
     "duration": 0.436973,
     "end_time": "2020-11-24T23:03:53.460704",
     "exception": false,
     "start_time": "2020-11-24T23:03:53.023731",
     "status": "completed"
    },
    "tags": []
   },
   "outputs": [],
   "source": [
    "submission.to_csv(\"submission.csv\", index = True, index_label = 'Id')"
   ]
  }
 ],
 "metadata": {
  "kernelspec": {
   "display_name": "Python 3",
   "language": "python",
   "name": "python3"
  },
  "language_info": {
   "codemirror_mode": {
    "name": "ipython",
    "version": 3
   },
   "file_extension": ".py",
   "mimetype": "text/x-python",
   "name": "python",
   "nbconvert_exporter": "python",
   "pygments_lexer": "ipython3",
   "version": "3.7.6"
  },
  "papermill": {
   "duration": 16835.761161,
   "end_time": "2020-11-24T23:03:53.698218",
   "environment_variables": {},
   "exception": null,
   "input_path": "__notebook__.ipynb",
   "output_path": "__notebook__.ipynb",
   "parameters": {},
   "start_time": "2020-11-24T18:23:17.937057",
   "version": "2.1.0"
  }
 },
 "nbformat": 4,
 "nbformat_minor": 4
}
